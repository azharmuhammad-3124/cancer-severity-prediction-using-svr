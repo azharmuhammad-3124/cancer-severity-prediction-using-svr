{
 "cells": [
  {
   "cell_type": "code",
   "execution_count": 1,
   "id": "2168082e",
   "metadata": {},
   "outputs": [],
   "source": [
    "import pickle\n",
    "import pandas as pd\n",
    "\n",
    "with open('best_pipe.pkl', 'rb') as model_file:\n",
    "  model = pickle.load(model_file)"
   ]
  },
  {
   "cell_type": "code",
   "execution_count": 2,
   "id": "0e18e534",
   "metadata": {},
   "outputs": [
    {
     "name": "stdout",
     "output_type": "stream",
     "text": [
      "   User  genetic_risk  air_pollution  alcohol_use  smoking  obesity_level  \\\n",
      "0     1             7              6            5        8              6   \n",
      "1     2             3              4            2        1              3   \n",
      "\n",
      "   treatment_cost_usd  \n",
      "0             75000.5  \n",
      "1             32000.0  \n"
     ]
    }
   ],
   "source": [
    "data_inf = {\n",
    "    'User': [1, 2],\n",
    "    'genetic_risk': [7, 3],\n",
    "    'air_pollution': [6, 4],\n",
    "    'alcohol_use': [5, 2],\n",
    "    'smoking': [8, 1],\n",
    "    'obesity_level': [6, 3],\n",
    "    'treatment_cost_usd': [75000.50, 32000.00]\n",
    "}\n",
    "\n",
    "data_inf = pd.DataFrame(data_inf)\n",
    "print(data_inf)"
   ]
  },
  {
   "cell_type": "code",
   "execution_count": 3,
   "id": "bc782d09",
   "metadata": {},
   "outputs": [
    {
     "data": {
      "text/plain": [
       "array([5.74336988, 3.35459887])"
      ]
     },
     "execution_count": 3,
     "metadata": {},
     "output_type": "execute_result"
    }
   ],
   "source": [
    "y_pred_inf = model.predict(data_inf)\n",
    "y_pred_inf"
   ]
  }
 ],
 "metadata": {
  "kernelspec": {
   "display_name": "base",
   "language": "python",
   "name": "python3"
  },
  "language_info": {
   "codemirror_mode": {
    "name": "ipython",
    "version": 3
   },
   "file_extension": ".py",
   "mimetype": "text/x-python",
   "name": "python",
   "nbconvert_exporter": "python",
   "pygments_lexer": "ipython3",
   "version": "3.12.9"
  }
 },
 "nbformat": 4,
 "nbformat_minor": 5
}
