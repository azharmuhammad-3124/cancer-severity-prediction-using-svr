{
 "cells": [
  {
   "cell_type": "markdown",
   "id": "bbe7c4bd",
   "metadata": {},
   "source": [
    "# 1. Introduction"
   ]
  },
  {
   "cell_type": "markdown",
   "id": "266280b2",
   "metadata": {},
   "source": [
    "Name    : Azhar Muhammad\n",
    "\n",
    "Batch   : RMT-042\n",
    "\n",
    "Project ini bertujuan untuk analisis dan pemodelan data terkait pasien kanker dari berbagai negara. Dataset mencakup informasi seperti jenis kanker, stadium, jenis kelamin, biaya perawatan, dan faktor risiko. Tujuan dari proyek ini adalah membangun model machine learning yang dapat memprediksi tingkat keparahan pasien kanker (target_severity_score) berdasarkan fitur-fitur yang tersedia, dengan harapan dapat membantu pengambilan keputusan medis yang lebih efektif."
   ]
  },
  {
   "cell_type": "markdown",
   "id": "eae79cc4",
   "metadata": {},
   "source": [
    "# 2. Import Libraries"
   ]
  },
  {
   "cell_type": "code",
   "execution_count": 1,
   "id": "5238e0b0",
   "metadata": {},
   "outputs": [],
   "source": [
    "# import libraries\n",
    "\n",
    "import pandas as pd\n",
    "import numpy as np\n",
    "import matplotlib.pyplot as plt\n",
    "import seaborn as sns\n",
    "import pickle\n",
    "\n",
    "from phik import phik_matrix\n",
    "from sklearn.model_selection import train_test_split, KFold, cross_val_score, RandomizedSearchCV\n",
    "from sklearn.preprocessing import StandardScaler\n",
    "from sklearn.compose import ColumnTransformer\n",
    "from sklearn.pipeline import Pipeline, make_pipeline\n",
    "from sklearn.decomposition import PCA\n",
    "from sklearn.neighbors import KNeighborsRegressor\n",
    "from sklearn.svm import SVR\n",
    "from sklearn.tree import DecisionTreeRegressor\n",
    "from sklearn.ensemble import RandomForestRegressor, AdaBoostRegressor\n",
    "from sklearn.metrics import mean_absolute_error, mean_squared_error, r2_score\n",
    "from scipy.stats import randint, uniform\n"
   ]
  },
  {
   "cell_type": "markdown",
   "id": "c5b49bf4",
   "metadata": {},
   "source": [
    "# 3. Data Loading"
   ]
  },
  {
   "cell_type": "markdown",
   "id": "d8329c8b",
   "metadata": {},
   "source": [
    "## Load File"
   ]
  },
  {
   "cell_type": "code",
   "execution_count": 2,
   "id": "9bcbe156",
   "metadata": {},
   "outputs": [
    {
     "data": {
      "text/html": [
       "<div>\n",
       "<style scoped>\n",
       "    .dataframe tbody tr th:only-of-type {\n",
       "        vertical-align: middle;\n",
       "    }\n",
       "\n",
       "    .dataframe tbody tr th {\n",
       "        vertical-align: top;\n",
       "    }\n",
       "\n",
       "    .dataframe thead th {\n",
       "        text-align: right;\n",
       "    }\n",
       "</style>\n",
       "<table border=\"1\" class=\"dataframe\">\n",
       "  <thead>\n",
       "    <tr style=\"text-align: right;\">\n",
       "      <th></th>\n",
       "      <th>Patient_ID</th>\n",
       "      <th>Age</th>\n",
       "      <th>Gender</th>\n",
       "      <th>Country_Region</th>\n",
       "      <th>Year</th>\n",
       "      <th>Genetic_Risk</th>\n",
       "      <th>Air_Pollution</th>\n",
       "      <th>Alcohol_Use</th>\n",
       "      <th>Smoking</th>\n",
       "      <th>Obesity_Level</th>\n",
       "      <th>Cancer_Type</th>\n",
       "      <th>Cancer_Stage</th>\n",
       "      <th>Treatment_Cost_USD</th>\n",
       "      <th>Survival_Years</th>\n",
       "      <th>Target_Severity_Score</th>\n",
       "    </tr>\n",
       "  </thead>\n",
       "  <tbody>\n",
       "    <tr>\n",
       "      <th>0</th>\n",
       "      <td>PT0000000</td>\n",
       "      <td>71</td>\n",
       "      <td>Male</td>\n",
       "      <td>UK</td>\n",
       "      <td>2021</td>\n",
       "      <td>6.4</td>\n",
       "      <td>2.8</td>\n",
       "      <td>9.5</td>\n",
       "      <td>0.9</td>\n",
       "      <td>8.7</td>\n",
       "      <td>Lung</td>\n",
       "      <td>Stage III</td>\n",
       "      <td>62913.44</td>\n",
       "      <td>5.9</td>\n",
       "      <td>4.92</td>\n",
       "    </tr>\n",
       "    <tr>\n",
       "      <th>1</th>\n",
       "      <td>PT0000001</td>\n",
       "      <td>34</td>\n",
       "      <td>Male</td>\n",
       "      <td>China</td>\n",
       "      <td>2021</td>\n",
       "      <td>1.3</td>\n",
       "      <td>4.5</td>\n",
       "      <td>3.7</td>\n",
       "      <td>3.9</td>\n",
       "      <td>6.3</td>\n",
       "      <td>Leukemia</td>\n",
       "      <td>Stage 0</td>\n",
       "      <td>12573.41</td>\n",
       "      <td>4.7</td>\n",
       "      <td>4.65</td>\n",
       "    </tr>\n",
       "    <tr>\n",
       "      <th>2</th>\n",
       "      <td>PT0000002</td>\n",
       "      <td>80</td>\n",
       "      <td>Male</td>\n",
       "      <td>Pakistan</td>\n",
       "      <td>2023</td>\n",
       "      <td>7.4</td>\n",
       "      <td>7.9</td>\n",
       "      <td>2.4</td>\n",
       "      <td>4.7</td>\n",
       "      <td>0.1</td>\n",
       "      <td>Breast</td>\n",
       "      <td>Stage II</td>\n",
       "      <td>6984.33</td>\n",
       "      <td>7.1</td>\n",
       "      <td>5.84</td>\n",
       "    </tr>\n",
       "    <tr>\n",
       "      <th>3</th>\n",
       "      <td>PT0000003</td>\n",
       "      <td>40</td>\n",
       "      <td>Male</td>\n",
       "      <td>UK</td>\n",
       "      <td>2015</td>\n",
       "      <td>1.7</td>\n",
       "      <td>2.9</td>\n",
       "      <td>4.8</td>\n",
       "      <td>3.5</td>\n",
       "      <td>2.7</td>\n",
       "      <td>Colon</td>\n",
       "      <td>Stage I</td>\n",
       "      <td>67446.25</td>\n",
       "      <td>1.6</td>\n",
       "      <td>3.12</td>\n",
       "    </tr>\n",
       "    <tr>\n",
       "      <th>4</th>\n",
       "      <td>PT0000004</td>\n",
       "      <td>43</td>\n",
       "      <td>Female</td>\n",
       "      <td>Brazil</td>\n",
       "      <td>2017</td>\n",
       "      <td>5.1</td>\n",
       "      <td>2.8</td>\n",
       "      <td>2.3</td>\n",
       "      <td>6.7</td>\n",
       "      <td>0.5</td>\n",
       "      <td>Skin</td>\n",
       "      <td>Stage III</td>\n",
       "      <td>77977.12</td>\n",
       "      <td>2.9</td>\n",
       "      <td>3.62</td>\n",
       "    </tr>\n",
       "    <tr>\n",
       "      <th>...</th>\n",
       "      <td>...</td>\n",
       "      <td>...</td>\n",
       "      <td>...</td>\n",
       "      <td>...</td>\n",
       "      <td>...</td>\n",
       "      <td>...</td>\n",
       "      <td>...</td>\n",
       "      <td>...</td>\n",
       "      <td>...</td>\n",
       "      <td>...</td>\n",
       "      <td>...</td>\n",
       "      <td>...</td>\n",
       "      <td>...</td>\n",
       "      <td>...</td>\n",
       "      <td>...</td>\n",
       "    </tr>\n",
       "    <tr>\n",
       "      <th>49995</th>\n",
       "      <td>PT0049995</td>\n",
       "      <td>80</td>\n",
       "      <td>Male</td>\n",
       "      <td>Pakistan</td>\n",
       "      <td>2023</td>\n",
       "      <td>2.3</td>\n",
       "      <td>7.5</td>\n",
       "      <td>2.8</td>\n",
       "      <td>3.8</td>\n",
       "      <td>2.9</td>\n",
       "      <td>Leukemia</td>\n",
       "      <td>Stage 0</td>\n",
       "      <td>71463.70</td>\n",
       "      <td>1.0</td>\n",
       "      <td>3.63</td>\n",
       "    </tr>\n",
       "    <tr>\n",
       "      <th>49996</th>\n",
       "      <td>PT0049996</td>\n",
       "      <td>40</td>\n",
       "      <td>Female</td>\n",
       "      <td>USA</td>\n",
       "      <td>2018</td>\n",
       "      <td>6.4</td>\n",
       "      <td>3.5</td>\n",
       "      <td>2.9</td>\n",
       "      <td>9.0</td>\n",
       "      <td>9.8</td>\n",
       "      <td>Colon</td>\n",
       "      <td>Stage I</td>\n",
       "      <td>49619.66</td>\n",
       "      <td>0.4</td>\n",
       "      <td>6.03</td>\n",
       "    </tr>\n",
       "    <tr>\n",
       "      <th>49997</th>\n",
       "      <td>PT0049997</td>\n",
       "      <td>74</td>\n",
       "      <td>Male</td>\n",
       "      <td>Pakistan</td>\n",
       "      <td>2015</td>\n",
       "      <td>6.2</td>\n",
       "      <td>1.6</td>\n",
       "      <td>8.7</td>\n",
       "      <td>4.7</td>\n",
       "      <td>4.0</td>\n",
       "      <td>Breast</td>\n",
       "      <td>Stage 0</td>\n",
       "      <td>5338.25</td>\n",
       "      <td>2.7</td>\n",
       "      <td>6.02</td>\n",
       "    </tr>\n",
       "    <tr>\n",
       "      <th>49998</th>\n",
       "      <td>PT0049998</td>\n",
       "      <td>21</td>\n",
       "      <td>Male</td>\n",
       "      <td>Brazil</td>\n",
       "      <td>2018</td>\n",
       "      <td>4.0</td>\n",
       "      <td>6.5</td>\n",
       "      <td>7.6</td>\n",
       "      <td>8.6</td>\n",
       "      <td>8.1</td>\n",
       "      <td>Liver</td>\n",
       "      <td>Stage IV</td>\n",
       "      <td>45100.47</td>\n",
       "      <td>7.5</td>\n",
       "      <td>6.54</td>\n",
       "    </tr>\n",
       "    <tr>\n",
       "      <th>49999</th>\n",
       "      <td>PT0049999</td>\n",
       "      <td>22</td>\n",
       "      <td>Male</td>\n",
       "      <td>Pakistan</td>\n",
       "      <td>2023</td>\n",
       "      <td>5.1</td>\n",
       "      <td>9.8</td>\n",
       "      <td>3.2</td>\n",
       "      <td>0.0</td>\n",
       "      <td>0.7</td>\n",
       "      <td>Liver</td>\n",
       "      <td>Stage 0</td>\n",
       "      <td>64023.82</td>\n",
       "      <td>7.4</td>\n",
       "      <td>3.76</td>\n",
       "    </tr>\n",
       "  </tbody>\n",
       "</table>\n",
       "<p>50000 rows × 15 columns</p>\n",
       "</div>"
      ],
      "text/plain": [
       "      Patient_ID  Age  Gender Country_Region  Year  Genetic_Risk  \\\n",
       "0      PT0000000   71    Male             UK  2021           6.4   \n",
       "1      PT0000001   34    Male          China  2021           1.3   \n",
       "2      PT0000002   80    Male       Pakistan  2023           7.4   \n",
       "3      PT0000003   40    Male             UK  2015           1.7   \n",
       "4      PT0000004   43  Female         Brazil  2017           5.1   \n",
       "...          ...  ...     ...            ...   ...           ...   \n",
       "49995  PT0049995   80    Male       Pakistan  2023           2.3   \n",
       "49996  PT0049996   40  Female            USA  2018           6.4   \n",
       "49997  PT0049997   74    Male       Pakistan  2015           6.2   \n",
       "49998  PT0049998   21    Male         Brazil  2018           4.0   \n",
       "49999  PT0049999   22    Male       Pakistan  2023           5.1   \n",
       "\n",
       "       Air_Pollution  Alcohol_Use  Smoking  Obesity_Level Cancer_Type  \\\n",
       "0                2.8          9.5      0.9            8.7        Lung   \n",
       "1                4.5          3.7      3.9            6.3    Leukemia   \n",
       "2                7.9          2.4      4.7            0.1      Breast   \n",
       "3                2.9          4.8      3.5            2.7       Colon   \n",
       "4                2.8          2.3      6.7            0.5        Skin   \n",
       "...              ...          ...      ...            ...         ...   \n",
       "49995            7.5          2.8      3.8            2.9    Leukemia   \n",
       "49996            3.5          2.9      9.0            9.8       Colon   \n",
       "49997            1.6          8.7      4.7            4.0      Breast   \n",
       "49998            6.5          7.6      8.6            8.1       Liver   \n",
       "49999            9.8          3.2      0.0            0.7       Liver   \n",
       "\n",
       "      Cancer_Stage  Treatment_Cost_USD  Survival_Years  Target_Severity_Score  \n",
       "0        Stage III            62913.44             5.9                   4.92  \n",
       "1          Stage 0            12573.41             4.7                   4.65  \n",
       "2         Stage II             6984.33             7.1                   5.84  \n",
       "3          Stage I            67446.25             1.6                   3.12  \n",
       "4        Stage III            77977.12             2.9                   3.62  \n",
       "...            ...                 ...             ...                    ...  \n",
       "49995      Stage 0            71463.70             1.0                   3.63  \n",
       "49996      Stage I            49619.66             0.4                   6.03  \n",
       "49997      Stage 0             5338.25             2.7                   6.02  \n",
       "49998     Stage IV            45100.47             7.5                   6.54  \n",
       "49999      Stage 0            64023.82             7.4                   3.76  \n",
       "\n",
       "[50000 rows x 15 columns]"
      ]
     },
     "execution_count": 2,
     "metadata": {},
     "output_type": "execute_result"
    }
   ],
   "source": [
    "# load file\n",
    "\n",
    "df = pd.read_csv(r'E:\\FTDS\\p1-ftds042-rmt-m2-azharmuhammad-3124\\global_cancer_patients_2015_2024.csv')\n",
    "df"
   ]
  },
  {
   "cell_type": "markdown",
   "id": "7ebfc5c5",
   "metadata": {},
   "source": [
    "## Make Column Names in Lowercase"
   ]
  },
  {
   "cell_type": "code",
   "execution_count": 3,
   "id": "d9b5c46f",
   "metadata": {},
   "outputs": [],
   "source": [
    "# merubah nama kolom menjadi huruf kecil\n",
    "\n",
    "df.columns = [col.lower() for col in df.columns]"
   ]
  },
  {
   "cell_type": "markdown",
   "id": "97b63c69",
   "metadata": {},
   "source": [
    "# 4. Exploratory Data Analysis"
   ]
  },
  {
   "cell_type": "markdown",
   "id": "63f81af9",
   "metadata": {},
   "source": [
    "## Average Treatment Cost (USD) by Country"
   ]
  },
  {
   "cell_type": "code",
   "execution_count": 4,
   "id": "4be74fb0",
   "metadata": {},
   "outputs": [
    {
     "data": {
      "text/plain": [
       "country_region\n",
       "Australia    52621.637121\n",
       "Brazil       52540.892254\n",
       "Canada       52584.225541\n",
       "China        52899.413814\n",
       "Germany      52769.251439\n",
       "India        52284.925133\n",
       "Pakistan     51567.959389\n",
       "Russia       52319.453980\n",
       "UK           52199.851308\n",
       "USA          52878.648158\n",
       "Name: treatment_cost_usd, dtype: float64"
      ]
     },
     "execution_count": 4,
     "metadata": {},
     "output_type": "execute_result"
    }
   ],
   "source": [
    "# groupby country dan treatment cost\n",
    "\n",
    "country_treatment_cost = df.groupby('country_region')['treatment_cost_usd'].mean()\n",
    "country_treatment_cost"
   ]
  },
  {
   "cell_type": "code",
   "execution_count": 5,
   "id": "93dfb570",
   "metadata": {},
   "outputs": [
    {
     "data": {
      "image/png": "[encoded data removed]",
      "text/plain": [
       "<Figure size 1000x600 with 1 Axes>"
      ]
     },
     "metadata": {},
     "output_type": "display_data"
    }
   ],
   "source": [
    "# viualisasi\n",
    "\n",
    "plt.figure(figsize=(10, 6))\n",
    "country_treatment_cost.sort_values().plot(kind='barh', color='skyblue')\n",
    "plt.title(\"Average Treatment Cost (USD) by Country/Region\")\n",
    "plt.xlabel(\"Treatment Cost (USD)\")\n",
    "plt.ylabel(\"Country/Region\")\n",
    "plt.grid(axis='x', linestyle='--', alpha=0.7)\n",
    "plt.tight_layout()\n",
    "plt.show()"
   ]
  },
  {
   "cell_type": "markdown",
   "id": "c7528a60",
   "metadata": {},
   "source": [
    "## Cancer Stage Value"
   ]
  },
  {
   "cell_type": "code",
   "execution_count": 6,
   "id": "79b63179",
   "metadata": {},
   "outputs": [
    {
     "data": {
      "text/plain": [
       "cancer_stage\n",
       "Stage II     10124\n",
       "Stage I      10046\n",
       "Stage III    10008\n",
       "Stage IV      9933\n",
       "Stage 0       9889\n",
       "Name: count, dtype: int64"
      ]
     },
     "execution_count": 6,
     "metadata": {},
     "output_type": "execute_result"
    }
   ],
   "source": [
    "# menghitung jumlah value cancer stage\n",
    "\n",
    "cancer_stage_nunique = df['cancer_stage'].value_counts()\n",
    "cancer_stage_nunique"
   ]
  },
  {
   "cell_type": "code",
   "execution_count": 7,
   "id": "ab814d44",
   "metadata": {},
   "outputs": [
    {
     "data": {
      "image/png": "[encoded data removed]",
      "text/plain": [
       "<Figure size 1000x600 with 1 Axes>"
      ]
     },
     "metadata": {},
     "output_type": "display_data"
    }
   ],
   "source": [
    "# viusalisasi\n",
    "\n",
    "plt.figure(figsize=(10, 6))\n",
    "cancer_stage_nunique.sort_values().plot(kind='barh', color='skyblue')\n",
    "plt.title(\"Cancer Stage Value\")\n",
    "plt.xlabel(\"Value\")\n",
    "plt.ylabel(\"Cancer Stage\")\n",
    "plt.grid(axis='x', linestyle='--', alpha=0.7)\n",
    "plt.tight_layout()\n",
    "plt.show()"
   ]
  },
  {
   "cell_type": "markdown",
   "id": "8c5ebbf2",
   "metadata": {},
   "source": [
    "## Cancer Type by Gender"
   ]
  },
  {
   "cell_type": "code",
   "execution_count": 8,
   "id": "7c49958e",
   "metadata": {},
   "outputs": [
    {
     "data": {
      "text/plain": [
       "gender  cancer_type\n",
       "Female  Cervical       2160\n",
       "        Prostate       2113\n",
       "        Colon          2108\n",
       "        Leukemia       2081\n",
       "        Lung           2067\n",
       "        Skin           2065\n",
       "        Liver          2064\n",
       "        Breast         2051\n",
       "Male    Colon          2147\n",
       "        Prostate       2138\n",
       "        Skin           2117\n",
       "        Lung           2103\n",
       "        Leukemia       2092\n",
       "        Liver          2091\n",
       "        Breast         2080\n",
       "        Cervical       2028\n",
       "Other   Colon          2121\n",
       "        Liver          2094\n",
       "        Leukemia       2093\n",
       "        Breast         2058\n",
       "        Prostate       2057\n",
       "        Skin           2049\n",
       "        Cervical       2034\n",
       "        Lung           1989\n",
       "Name: count, dtype: int64"
      ]
     },
     "execution_count": 8,
     "metadata": {},
     "output_type": "execute_result"
    }
   ],
   "source": [
    "# groupby gender dan cancer_type\n",
    "\n",
    "gender_cancer_type = df.groupby('gender')['cancer_type'].value_counts()\n",
    "gender_cancer_type"
   ]
  },
  {
   "cell_type": "code",
   "execution_count": 9,
   "id": "f266294a",
   "metadata": {},
   "outputs": [
    {
     "data": {
      "image/png": "[encoded data removed]",
      "text/plain": [
       "<Figure size 1400x600 with 1 Axes>"
      ]
     },
     "metadata": {},
     "output_type": "display_data"
    }
   ],
   "source": [
    "# visualisasi\n",
    "\n",
    "gender_cancer_type_df = gender_cancer_type.unstack().fillna(0)\n",
    "gender_cancer_type_df.plot(kind='bar', figsize=(14, 6)) \n",
    "plt.title(\"Cancer Type Count by Gender\")\n",
    "plt.xlabel(\"Cancer Type\")\n",
    "plt.ylabel(\"Count\")\n",
    "plt.xticks(rotation=45)\n",
    "plt.legend(title=\"Gender\")\n",
    "plt.grid(axis='y', linestyle='--', alpha=0.6)\n",
    "plt.tight_layout()\n",
    "plt.show()"
   ]
  },
  {
   "cell_type": "markdown",
   "id": "21b4789e",
   "metadata": {},
   "source": [
    "## Data Distribution"
   ]
  },
  {
   "cell_type": "code",
   "execution_count": 10,
   "id": "3ce2fb87",
   "metadata": {},
   "outputs": [
    {
     "data": {
      "text/html": [
       "<div>\n",
       "<style scoped>\n",
       "    .dataframe tbody tr th:only-of-type {\n",
       "        vertical-align: middle;\n",
       "    }\n",
       "\n",
       "    .dataframe tbody tr th {\n",
       "        vertical-align: top;\n",
       "    }\n",
       "\n",
       "    .dataframe thead th {\n",
       "        text-align: right;\n",
       "    }\n",
       "</style>\n",
       "<table border=\"1\" class=\"dataframe\">\n",
       "  <thead>\n",
       "    <tr style=\"text-align: right;\">\n",
       "      <th></th>\n",
       "      <th>age</th>\n",
       "      <th>year</th>\n",
       "      <th>genetic_risk</th>\n",
       "      <th>air_pollution</th>\n",
       "      <th>alcohol_use</th>\n",
       "      <th>smoking</th>\n",
       "      <th>obesity_level</th>\n",
       "      <th>treatment_cost_usd</th>\n",
       "      <th>survival_years</th>\n",
       "    </tr>\n",
       "  </thead>\n",
       "  <tbody>\n",
       "    <tr>\n",
       "      <th>count</th>\n",
       "      <td>50000.000000</td>\n",
       "      <td>50000.000000</td>\n",
       "      <td>50000.000000</td>\n",
       "      <td>50000.000000</td>\n",
       "      <td>50000.000000</td>\n",
       "      <td>50000.000000</td>\n",
       "      <td>50000.000000</td>\n",
       "      <td>50000.000000</td>\n",
       "      <td>50000.000000</td>\n",
       "    </tr>\n",
       "    <tr>\n",
       "      <th>mean</th>\n",
       "      <td>54.421540</td>\n",
       "      <td>2019.480520</td>\n",
       "      <td>5.001698</td>\n",
       "      <td>5.010126</td>\n",
       "      <td>5.010880</td>\n",
       "      <td>4.989826</td>\n",
       "      <td>4.991176</td>\n",
       "      <td>52467.298239</td>\n",
       "      <td>5.006462</td>\n",
       "    </tr>\n",
       "    <tr>\n",
       "      <th>std</th>\n",
       "      <td>20.224451</td>\n",
       "      <td>2.871485</td>\n",
       "      <td>2.885773</td>\n",
       "      <td>2.888399</td>\n",
       "      <td>2.888769</td>\n",
       "      <td>2.881579</td>\n",
       "      <td>2.894504</td>\n",
       "      <td>27363.229379</td>\n",
       "      <td>2.883335</td>\n",
       "    </tr>\n",
       "    <tr>\n",
       "      <th>min</th>\n",
       "      <td>20.000000</td>\n",
       "      <td>2015.000000</td>\n",
       "      <td>0.000000</td>\n",
       "      <td>0.000000</td>\n",
       "      <td>0.000000</td>\n",
       "      <td>0.000000</td>\n",
       "      <td>0.000000</td>\n",
       "      <td>5000.050000</td>\n",
       "      <td>0.000000</td>\n",
       "    </tr>\n",
       "    <tr>\n",
       "      <th>25%</th>\n",
       "      <td>37.000000</td>\n",
       "      <td>2017.000000</td>\n",
       "      <td>2.500000</td>\n",
       "      <td>2.500000</td>\n",
       "      <td>2.500000</td>\n",
       "      <td>2.500000</td>\n",
       "      <td>2.500000</td>\n",
       "      <td>28686.225000</td>\n",
       "      <td>2.500000</td>\n",
       "    </tr>\n",
       "    <tr>\n",
       "      <th>50%</th>\n",
       "      <td>54.000000</td>\n",
       "      <td>2019.000000</td>\n",
       "      <td>5.000000</td>\n",
       "      <td>5.000000</td>\n",
       "      <td>5.000000</td>\n",
       "      <td>5.000000</td>\n",
       "      <td>5.000000</td>\n",
       "      <td>52474.310000</td>\n",
       "      <td>5.000000</td>\n",
       "    </tr>\n",
       "    <tr>\n",
       "      <th>75%</th>\n",
       "      <td>72.000000</td>\n",
       "      <td>2022.000000</td>\n",
       "      <td>7.500000</td>\n",
       "      <td>7.500000</td>\n",
       "      <td>7.500000</td>\n",
       "      <td>7.500000</td>\n",
       "      <td>7.500000</td>\n",
       "      <td>76232.720000</td>\n",
       "      <td>7.500000</td>\n",
       "    </tr>\n",
       "    <tr>\n",
       "      <th>max</th>\n",
       "      <td>89.000000</td>\n",
       "      <td>2024.000000</td>\n",
       "      <td>10.000000</td>\n",
       "      <td>10.000000</td>\n",
       "      <td>10.000000</td>\n",
       "      <td>10.000000</td>\n",
       "      <td>10.000000</td>\n",
       "      <td>99999.840000</td>\n",
       "      <td>10.000000</td>\n",
       "    </tr>\n",
       "  </tbody>\n",
       "</table>\n",
       "</div>"
      ],
      "text/plain": [
       "                age          year  genetic_risk  air_pollution   alcohol_use  \\\n",
       "count  50000.000000  50000.000000  50000.000000   50000.000000  50000.000000   \n",
       "mean      54.421540   2019.480520      5.001698       5.010126      5.010880   \n",
       "std       20.224451      2.871485      2.885773       2.888399      2.888769   \n",
       "min       20.000000   2015.000000      0.000000       0.000000      0.000000   \n",
       "25%       37.000000   2017.000000      2.500000       2.500000      2.500000   \n",
       "50%       54.000000   2019.000000      5.000000       5.000000      5.000000   \n",
       "75%       72.000000   2022.000000      7.500000       7.500000      7.500000   \n",
       "max       89.000000   2024.000000     10.000000      10.000000     10.000000   \n",
       "\n",
       "            smoking  obesity_level  treatment_cost_usd  survival_years  \n",
       "count  50000.000000   50000.000000        50000.000000    50000.000000  \n",
       "mean       4.989826       4.991176        52467.298239        5.006462  \n",
       "std        2.881579       2.894504        27363.229379        2.883335  \n",
       "min        0.000000       0.000000         5000.050000        0.000000  \n",
       "25%        2.500000       2.500000        28686.225000        2.500000  \n",
       "50%        5.000000       5.000000        52474.310000        5.000000  \n",
       "75%        7.500000       7.500000        76232.720000        7.500000  \n",
       "max       10.000000      10.000000        99999.840000       10.000000  "
      ]
     },
     "execution_count": 10,
     "metadata": {},
     "output_type": "execute_result"
    }
   ],
   "source": [
    "# melihat distribusi data numerik\n",
    "\n",
    "df.select_dtypes(include='number').drop(columns=['target_severity_score']).describe()"
   ]
  },
  {
   "cell_type": "code",
   "execution_count": 11,
   "id": "a7f6ce0b",
   "metadata": {},
   "outputs": [
    {
     "data": {
      "image/png": "[encoded data removed]",
      "text/plain": [
       "<Figure size 1200x600 with 1 Axes>"
      ]
     },
     "metadata": {},
     "output_type": "display_data"
    }
   ],
   "source": [
    "# viualisasi\n",
    "\n",
    "cols_to_plot = df.select_dtypes(include='number').drop(columns=['treatment_cost_usd', 'target_severity_score', 'year', 'age'])\n",
    "\n",
    "cols_to_plot.plot(kind='box', figsize=(12, 6))\n",
    "plt.title('Boxplot of Numerical Features (Excluding Treatment Cost and Severity Score)')\n",
    "plt.ylabel('Value')\n",
    "plt.grid(True, linestyle='--', alpha=0.7)\n",
    "plt.tight_layout()\n",
    "plt.show()"
   ]
  },
  {
   "cell_type": "markdown",
   "id": "b29bc137",
   "metadata": {},
   "source": [
    "## EDA Analysis"
   ]
  },
  {
   "cell_type": "markdown",
   "id": "5f04cfd1",
   "metadata": {},
   "source": [
    "### Average Treatment Cost (USD) by Country"
   ]
  },
  {
   "cell_type": "markdown",
   "id": "26597700",
   "metadata": {},
   "source": [
    "Tidak ada perbedaan rata-rata biaya treatment antar negara. Sedangkan negara-negara tersebut seharusnya memiliki rata-rata biaya treatment yang berbeda. Ini contoh range kasar dari *google.com*:\n",
    "\n",
    "\n",
    "- UK        :\t$0 (public) – $50,000+ (private)\n",
    "- India     :\t$1,100 – $34,650\n",
    "- Brazil    :\t$4,100 – $12,900+\n",
    "- Australia :\t$0 (public) – $40,000+ (private)\n",
    "- USA       :\t$10,000 – $200,000+\n"
   ]
  },
  {
   "cell_type": "markdown",
   "id": "2c978065",
   "metadata": {},
   "source": [
    "### Cancer Stage Value"
   ]
  },
  {
   "cell_type": "markdown",
   "id": "5e39d4d5",
   "metadata": {},
   "source": [
    "Value pada cancer stage harusnya juga tidak seimbang, sama seperti yang kita lihat di `Average Treatment Cost (USD) by Country`. Data tidak menunjukkan kenyataan dilapangan."
   ]
  },
  {
   "cell_type": "markdown",
   "id": "e492944a",
   "metadata": {},
   "source": [
    "### Cancer Type by Gender"
   ]
  },
  {
   "cell_type": "markdown",
   "id": "ffa5a0e0",
   "metadata": {},
   "source": [
    "Sama seperti dua EDA pertama, data terlalu seimbang. Contoh kasus di USA, perbandingan antara pria dan wanita yang terkena breast cancer adalah 1:106. Source: [Breast Cancer Facts & Figures 2023](https://www.cancer.org/cancer/types/breast-cancer/about/how-common-is-breast-cancer.html). Sedangkan dataset menunjukkan perbandingan antara pria dan wanita yang seimbang. Pria dan wanita memiliki kerentanan terhadap jenis kanker tertentu, namun data tidak memperlihatkan adanya perbedaan yang signifikan antara keduanya."
   ]
  },
  {
   "cell_type": "markdown",
   "id": "57d6d577",
   "metadata": {},
   "source": [
    "### Data Distribution"
   ]
  },
  {
   "cell_type": "markdown",
   "id": "f0cb25ce",
   "metadata": {},
   "source": [
    "Distribusi simetris, rentang nilai yang seragam, dan minimnya outlier. Kemungkinan besar, pembuat dataset telah melakukan cleaning data terlebih dahulu sebelum dataset tersebut diunggah. Kemungkinan ini juga didukung oleh poin-poin EDA diatas."
   ]
  },
  {
   "cell_type": "markdown",
   "id": "9e93e4ae",
   "metadata": {},
   "source": [
    "# 5. Feature Engineering"
   ]
  },
  {
   "cell_type": "markdown",
   "id": "846385cc",
   "metadata": {},
   "source": [
    "## Split Feature (x) and Target (y)"
   ]
  },
  {
   "cell_type": "code",
   "execution_count": 12,
   "id": "891c6d7c",
   "metadata": {},
   "outputs": [],
   "source": [
    "# split x dan y\n",
    "\n",
    "x = df.drop(['target_severity_score'],axis=1)\n",
    "y = df.target_severity_score "
   ]
  },
  {
   "cell_type": "markdown",
   "id": "b20d38b9",
   "metadata": {},
   "source": [
    "## Split Numerical and Categorical Columns"
   ]
  },
  {
   "cell_type": "code",
   "execution_count": 13,
   "id": "659073ee",
   "metadata": {},
   "outputs": [
    {
     "name": "stdout",
     "output_type": "stream",
     "text": [
      "Numerical Columns: ['age', 'year', 'genetic_risk', 'air_pollution', 'alcohol_use', 'smoking', 'obesity_level', 'treatment_cost_usd', 'survival_years']\n",
      "Categorical Columns: ['patient_id', 'gender', 'country_region', 'cancer_type', 'cancer_stage']\n"
     ]
    }
   ],
   "source": [
    "# split kolom numerik dan kategorikal\n",
    "\n",
    "num_cols = x.select_dtypes(include=['int64', 'float64']).columns.tolist()\n",
    "cat_cols = x.select_dtypes(include=['object', 'category']).columns.tolist()\n",
    "\n",
    "print(\"Numerical Columns:\", num_cols)\n",
    "print(\"Categorical Columns:\", cat_cols)"
   ]
  },
  {
   "cell_type": "markdown",
   "id": "69faa4a3",
   "metadata": {},
   "source": [
    "## Cardinality Check for Categorical Columns"
   ]
  },
  {
   "cell_type": "code",
   "execution_count": 14,
   "id": "b659b058",
   "metadata": {},
   "outputs": [
    {
     "data": {
      "text/plain": [
       "patient_id        50000\n",
       "gender                3\n",
       "country_region       10\n",
       "cancer_type           8\n",
       "cancer_stage          5\n",
       "dtype: int64"
      ]
     },
     "execution_count": 14,
     "metadata": {},
     "output_type": "execute_result"
    }
   ],
   "source": [
    "# cek cardinality\n",
    "\n",
    "x[cat_cols].nunique()"
   ]
  },
  {
   "cell_type": "markdown",
   "id": "fceab98a",
   "metadata": {},
   "source": [
    "## Missing Value Check"
   ]
  },
  {
   "cell_type": "code",
   "execution_count": 15,
   "id": "bb7a0f29",
   "metadata": {},
   "outputs": [
    {
     "name": "stdout",
     "output_type": "stream",
     "text": [
      "<class 'pandas.core.frame.DataFrame'>\n",
      "RangeIndex: 50000 entries, 0 to 49999\n",
      "Data columns (total 14 columns):\n",
      " #   Column              Non-Null Count  Dtype  \n",
      "---  ------              --------------  -----  \n",
      " 0   patient_id          50000 non-null  object \n",
      " 1   age                 50000 non-null  int64  \n",
      " 2   gender              50000 non-null  object \n",
      " 3   country_region      50000 non-null  object \n",
      " 4   year                50000 non-null  int64  \n",
      " 5   genetic_risk        50000 non-null  float64\n",
      " 6   air_pollution       50000 non-null  float64\n",
      " 7   alcohol_use         50000 non-null  float64\n",
      " 8   smoking             50000 non-null  float64\n",
      " 9   obesity_level       50000 non-null  float64\n",
      " 10  cancer_type         50000 non-null  object \n",
      " 11  cancer_stage        50000 non-null  object \n",
      " 12  treatment_cost_usd  50000 non-null  float64\n",
      " 13  survival_years      50000 non-null  float64\n",
      "dtypes: float64(7), int64(2), object(5)\n",
      "memory usage: 5.3+ MB\n"
     ]
    }
   ],
   "source": [
    "# cek missing value\n",
    "\n",
    "x.info()"
   ]
  },
  {
   "cell_type": "markdown",
   "id": "7b72200a",
   "metadata": {},
   "source": [
    "## Outliers Check for Numerical Columns"
   ]
  },
  {
   "cell_type": "code",
   "execution_count": 16,
   "id": "0a989645",
   "metadata": {},
   "outputs": [
    {
     "name": "stdout",
     "output_type": "stream",
     "text": [
      "               Column  Outliers  Percentage\n",
      "0                 age         0         0.0\n",
      "1                year         0         0.0\n",
      "2        genetic_risk         0         0.0\n",
      "3       air_pollution         0         0.0\n",
      "4         alcohol_use         0         0.0\n",
      "5             smoking         0         0.0\n",
      "6       obesity_level         0         0.0\n",
      "7  treatment_cost_usd         0         0.0\n",
      "8      survival_years         0         0.0\n"
     ]
    }
   ],
   "source": [
    "# membuat fungsi untuk cek outliers\n",
    "\n",
    "def count_outliers_iqr(df):\n",
    "    result = []\n",
    "\n",
    "    numeric_df = df.select_dtypes(include='number')\n",
    "\n",
    "    for col in numeric_df.columns:\n",
    "        Q1 = numeric_df[col].quantile(0.25)\n",
    "        Q3 = numeric_df[col].quantile(0.75)\n",
    "        IQR = Q3 - Q1\n",
    "        lower = Q1 - 1.5 * IQR\n",
    "        upper = Q3 + 1.5 * IQR\n",
    "\n",
    "        outlier_count = numeric_df[(numeric_df[col] < lower) | (numeric_df[col] > upper)].shape[0]\n",
    "        percent = round(outlier_count / df.shape[0] * 100, 2)\n",
    "        result.append((col, outlier_count, percent))\n",
    "\n",
    "    return pd.DataFrame(result, columns=['Column', 'Outliers', 'Percentage'])\n",
    "\n",
    "outlier_stats = count_outliers_iqr(x)\n",
    "print(outlier_stats)\n"
   ]
  },
  {
   "cell_type": "markdown",
   "id": "39a6c3a7",
   "metadata": {},
   "source": [
    "## Feature Selection"
   ]
  },
  {
   "cell_type": "code",
   "execution_count": 17,
   "id": "d3811f41",
   "metadata": {},
   "outputs": [
    {
     "name": "stderr",
     "output_type": "stream",
     "text": [
      "c:\\Users\\Azhar Muhammad\\miniconda3\\Lib\\site-packages\\phik\\data_quality.py:59: UserWarning: The number of unique values of variable patient_id is large: 50000. Are you sure this is not an interval variable? Analysis for pairs of variables including patient_id can be slow.\n",
      "  warnings.warn(\n"
     ]
    },
    {
     "name": "stdout",
     "output_type": "stream",
     "text": [
      "                       target_severity_score\n",
      "patient_id                          1.000000\n",
      "target_severity_score               1.000000\n",
      "smoking                             0.481591\n",
      "genetic_risk                        0.478287\n",
      "treatment_cost_usd                  0.464905\n",
      "air_pollution                       0.375832\n",
      "alcohol_use                         0.369724\n",
      "obesity_level                       0.261087\n",
      "gender                              0.006171\n",
      "cancer_type                         0.005339\n",
      "age                                 0.000000\n",
      "country_region                      0.000000\n",
      "year                                0.000000\n",
      "cancer_stage                        0.000000\n",
      "survival_years                      0.000000\n"
     ]
    }
   ],
   "source": [
    "# menghitung korelasi feature dengan target\n",
    "\n",
    "interval_cols = [\n",
    "    'age', 'genetic_risk', 'air_pollution', 'alcohol_use', 'smoking',\n",
    "    'obesity_level', 'treatment_cost_usd', 'survival_years', 'target_severity_score'\n",
    "]\n",
    "\n",
    "phik_corr = df.phik_matrix(interval_cols=interval_cols)\n",
    "print(phik_corr[['target_severity_score']].sort_values(by='target_severity_score', ascending=False))"
   ]
  },
  {
   "cell_type": "code",
   "execution_count": 18,
   "id": "fa1c6019",
   "metadata": {},
   "outputs": [],
   "source": [
    "# drop kolom2 yang tidak memiliki korelasi\n",
    "\n",
    "drop_cols = [\n",
    "    'gender',\n",
    "    'cancer_type',\n",
    "    'age',\n",
    "    'country_region',\n",
    "    'year',\n",
    "    'cancer_stage',\n",
    "    'survival_years',\n",
    "    'patient_id'\n",
    "]\n",
    "\n",
    "x = x.drop(columns=drop_cols)"
   ]
  },
  {
   "cell_type": "markdown",
   "id": "3ec0ca35",
   "metadata": {},
   "source": [
    "## Split Train and Test Dataset"
   ]
  },
  {
   "cell_type": "code",
   "execution_count": 19,
   "id": "99227b54",
   "metadata": {},
   "outputs": [
    {
     "name": "stdout",
     "output_type": "stream",
     "text": [
      "Train Size:  (40000, 6)\n",
      "Test Size:  (10000, 6)\n"
     ]
    }
   ],
   "source": [
    "# split train dan test set\n",
    "\n",
    "x_train, x_test, y_train, y_test = train_test_split(x, y, test_size = 0.2, random_state = 40)\n",
    "print('Train Size: ', x_train.shape) \n",
    "print('Test Size: ', x_test.shape) "
   ]
  },
  {
   "cell_type": "code",
   "execution_count": 20,
   "id": "8b171422",
   "metadata": {},
   "outputs": [],
   "source": [
    "# menyamakan num dan cat cols dengan x_train dan x_test\n",
    "\n",
    "common_columns = set(x_train.columns).intersection(set(x_test.columns))\n",
    "\n",
    "num_cols = [col for col in num_cols if col in common_columns]\n",
    "cat_cols = [col for col in cat_cols if col in common_columns]"
   ]
  },
  {
   "cell_type": "code",
   "execution_count": 21,
   "id": "02f9342f",
   "metadata": {},
   "outputs": [
    {
     "data": {
      "text/html": [
       "<div>\n",
       "<style scoped>\n",
       "    .dataframe tbody tr th:only-of-type {\n",
       "        vertical-align: middle;\n",
       "    }\n",
       "\n",
       "    .dataframe tbody tr th {\n",
       "        vertical-align: top;\n",
       "    }\n",
       "\n",
       "    .dataframe thead th {\n",
       "        text-align: right;\n",
       "    }\n",
       "</style>\n",
       "<table border=\"1\" class=\"dataframe\">\n",
       "  <thead>\n",
       "    <tr style=\"text-align: right;\">\n",
       "      <th></th>\n",
       "      <th>genetic_risk</th>\n",
       "      <th>air_pollution</th>\n",
       "      <th>alcohol_use</th>\n",
       "      <th>smoking</th>\n",
       "      <th>obesity_level</th>\n",
       "      <th>treatment_cost_usd</th>\n",
       "    </tr>\n",
       "  </thead>\n",
       "  <tbody>\n",
       "    <tr>\n",
       "      <th>33649</th>\n",
       "      <td>2.7</td>\n",
       "      <td>8.6</td>\n",
       "      <td>6.0</td>\n",
       "      <td>5.5</td>\n",
       "      <td>9.7</td>\n",
       "      <td>40271.53</td>\n",
       "    </tr>\n",
       "    <tr>\n",
       "      <th>43700</th>\n",
       "      <td>0.1</td>\n",
       "      <td>6.0</td>\n",
       "      <td>1.4</td>\n",
       "      <td>7.7</td>\n",
       "      <td>5.1</td>\n",
       "      <td>86238.66</td>\n",
       "    </tr>\n",
       "    <tr>\n",
       "      <th>27039</th>\n",
       "      <td>8.8</td>\n",
       "      <td>7.2</td>\n",
       "      <td>1.6</td>\n",
       "      <td>1.1</td>\n",
       "      <td>7.7</td>\n",
       "      <td>14678.33</td>\n",
       "    </tr>\n",
       "    <tr>\n",
       "      <th>23128</th>\n",
       "      <td>7.0</td>\n",
       "      <td>0.6</td>\n",
       "      <td>6.6</td>\n",
       "      <td>7.7</td>\n",
       "      <td>7.3</td>\n",
       "      <td>66842.70</td>\n",
       "    </tr>\n",
       "    <tr>\n",
       "      <th>35305</th>\n",
       "      <td>7.6</td>\n",
       "      <td>1.4</td>\n",
       "      <td>4.8</td>\n",
       "      <td>7.9</td>\n",
       "      <td>8.1</td>\n",
       "      <td>79899.92</td>\n",
       "    </tr>\n",
       "    <tr>\n",
       "      <th>...</th>\n",
       "      <td>...</td>\n",
       "      <td>...</td>\n",
       "      <td>...</td>\n",
       "      <td>...</td>\n",
       "      <td>...</td>\n",
       "      <td>...</td>\n",
       "    </tr>\n",
       "    <tr>\n",
       "      <th>27640</th>\n",
       "      <td>2.9</td>\n",
       "      <td>0.1</td>\n",
       "      <td>9.2</td>\n",
       "      <td>2.0</td>\n",
       "      <td>9.8</td>\n",
       "      <td>54492.38</td>\n",
       "    </tr>\n",
       "    <tr>\n",
       "      <th>14501</th>\n",
       "      <td>9.5</td>\n",
       "      <td>1.1</td>\n",
       "      <td>7.1</td>\n",
       "      <td>6.2</td>\n",
       "      <td>1.5</td>\n",
       "      <td>53659.85</td>\n",
       "    </tr>\n",
       "    <tr>\n",
       "      <th>30727</th>\n",
       "      <td>9.8</td>\n",
       "      <td>4.9</td>\n",
       "      <td>6.3</td>\n",
       "      <td>9.6</td>\n",
       "      <td>1.4</td>\n",
       "      <td>47892.01</td>\n",
       "    </tr>\n",
       "    <tr>\n",
       "      <th>47323</th>\n",
       "      <td>6.2</td>\n",
       "      <td>4.0</td>\n",
       "      <td>2.5</td>\n",
       "      <td>6.7</td>\n",
       "      <td>0.1</td>\n",
       "      <td>35114.11</td>\n",
       "    </tr>\n",
       "    <tr>\n",
       "      <th>11590</th>\n",
       "      <td>3.6</td>\n",
       "      <td>6.1</td>\n",
       "      <td>2.3</td>\n",
       "      <td>8.5</td>\n",
       "      <td>8.9</td>\n",
       "      <td>60699.86</td>\n",
       "    </tr>\n",
       "  </tbody>\n",
       "</table>\n",
       "<p>40000 rows × 6 columns</p>\n",
       "</div>"
      ],
      "text/plain": [
       "       genetic_risk  air_pollution  alcohol_use  smoking  obesity_level  \\\n",
       "33649           2.7            8.6          6.0      5.5            9.7   \n",
       "43700           0.1            6.0          1.4      7.7            5.1   \n",
       "27039           8.8            7.2          1.6      1.1            7.7   \n",
       "23128           7.0            0.6          6.6      7.7            7.3   \n",
       "35305           7.6            1.4          4.8      7.9            8.1   \n",
       "...             ...            ...          ...      ...            ...   \n",
       "27640           2.9            0.1          9.2      2.0            9.8   \n",
       "14501           9.5            1.1          7.1      6.2            1.5   \n",
       "30727           9.8            4.9          6.3      9.6            1.4   \n",
       "47323           6.2            4.0          2.5      6.7            0.1   \n",
       "11590           3.6            6.1          2.3      8.5            8.9   \n",
       "\n",
       "       treatment_cost_usd  \n",
       "33649            40271.53  \n",
       "43700            86238.66  \n",
       "27039            14678.33  \n",
       "23128            66842.70  \n",
       "35305            79899.92  \n",
       "...                   ...  \n",
       "27640            54492.38  \n",
       "14501            53659.85  \n",
       "30727            47892.01  \n",
       "47323            35114.11  \n",
       "11590            60699.86  \n",
       "\n",
       "[40000 rows x 6 columns]"
      ]
     },
     "execution_count": 21,
     "metadata": {},
     "output_type": "execute_result"
    }
   ],
   "source": [
    "# define x_train dan x_test final\n",
    "\n",
    "x_train_final = x_train[num_cols + cat_cols]\n",
    "x_test_final = x_test[num_cols + cat_cols]\n",
    "x_train_final"
   ]
  },
  {
   "cell_type": "markdown",
   "id": "82574cfd",
   "metadata": {},
   "source": [
    "## Preprocessing (Scaling and PCA)"
   ]
  },
  {
   "cell_type": "code",
   "execution_count": 22,
   "id": "948870f1",
   "metadata": {},
   "outputs": [],
   "source": [
    "# define scaler dan pca\n",
    "\n",
    "pca = PCA(n_components=0.95)\n",
    "scaler = StandardScaler()\n",
    "\n",
    "# membuat pipeline preprocess\n",
    "\n",
    "numeric_pipeline = Pipeline([\n",
    "    ('scaler', StandardScaler()),\n",
    "    ('pca', PCA(n_components=0.95))\n",
    "])\n",
    "\n",
    "preprocess = ColumnTransformer(\n",
    "    transformers = [\n",
    "        ('num_pca',numeric_pipeline,num_cols)]\n",
    ")"
   ]
  },
  {
   "cell_type": "markdown",
   "id": "031ff1b5",
   "metadata": {},
   "source": [
    "# 6. Modeling"
   ]
  },
  {
   "cell_type": "markdown",
   "id": "5bd1652d",
   "metadata": {},
   "source": [
    "## Making Pipeline"
   ]
  },
  {
   "cell_type": "code",
   "execution_count": 23,
   "id": "6cb67331",
   "metadata": {},
   "outputs": [],
   "source": [
    "# membuat pipeline\n",
    "\n",
    "pipe_knn_reg = make_pipeline(preprocess, KNeighborsRegressor())\n",
    "pipe_svr = make_pipeline(preprocess, SVR())\n",
    "pipe_dt_reg = make_pipeline(preprocess, DecisionTreeRegressor(random_state=10))\n",
    "pipe_rf_reg = make_pipeline(preprocess, RandomForestRegressor(random_state=10))\n",
    "pipe_ada_reg = make_pipeline(preprocess, AdaBoostRegressor(random_state=10))"
   ]
  },
  {
   "cell_type": "markdown",
   "id": "8f0e1994",
   "metadata": {},
   "source": [
    "## Defining Cross-Val for Each Model"
   ]
  },
  {
   "cell_type": "code",
   "execution_count": 24,
   "id": "9b3736aa",
   "metadata": {},
   "outputs": [],
   "source": [
    "# define Kfold\n",
    "\n",
    "kfold = KFold(n_splits=5, shuffle=True, random_state=10)\n",
    "\n",
    "# define cross-val\n",
    "\n",
    "cv_knn_model = cross_val_score(pipe_knn_reg, x_train_final, y_train, cv=kfold, scoring='r2', n_jobs=-1)\n",
    "cv_svr_model = cross_val_score(pipe_svr, x_train_final, y_train, cv=kfold, scoring='r2', n_jobs=-1)\n",
    "cv_dt_model = cross_val_score(pipe_dt_reg, x_train_final, y_train, cv=kfold, scoring='r2', n_jobs=-1)\n",
    "cv_rf_model = cross_val_score(pipe_rf_reg, x_train_final, y_train, cv=kfold, scoring='r2', n_jobs=-1)\n",
    "cv_ada_model = cross_val_score(pipe_ada_reg, x_train_final, y_train, cv=kfold, scoring='r2', n_jobs=-1)"
   ]
  },
  {
   "cell_type": "markdown",
   "id": "cfe62768",
   "metadata": {},
   "source": [
    "## Cross-Validation"
   ]
  },
  {
   "cell_type": "code",
   "execution_count": 25,
   "id": "4129a980",
   "metadata": {},
   "outputs": [
    {
     "name": "stdout",
     "output_type": "stream",
     "text": [
      "knn_model\n",
      "R2 scores - All CV folds: [0.9863715  0.9861089  0.98611006 0.98607726 0.98627908]\n",
      "R2 mean: 0.9861893599327043\n",
      "R2 std: 0.00011537146706780567\n",
      "R2 range: 0.9860739884656364 - 0.9863047313997721\n",
      "--------------------------------------------------\n",
      "svr_model\n",
      "R2 scores - All CV folds: [0.99884417 0.99891855 0.99885791 0.99890134 0.99889812]\n",
      "R2 mean: 0.9988840185893189\n",
      "R2 std: 2.814640450917132e-05\n",
      "R2 range: 0.9988558721848096 - 0.9989121649938281\n",
      "--------------------------------------------------\n",
      "dt_model\n",
      "R2 scores - All CV folds: [0.97290347 0.96171804 0.94453927 0.95521286 0.96740146]\n",
      "R2 mean: 0.9603550204409042\n",
      "R2 std: 0.009854474338248225\n",
      "R2 range: 0.9505005461026559 - 0.9702094947791524\n",
      "--------------------------------------------------\n",
      "rf_model\n",
      "R2 scores - All CV folds: [0.99327108 0.9909354  0.98764618 0.98978009 0.9922372 ]\n",
      "R2 mean: 0.9907739920419282\n",
      "R2 std: 0.0019582382635516464\n",
      "R2 range: 0.9888157537783765 - 0.9927322303054799\n",
      "--------------------------------------------------\n",
      "ada_model\n",
      "R2 scores - All CV folds: [0.91493865 0.87074403 0.8741655  0.88987142 0.89494051]\n",
      "R2 mean: 0.8889320225357725\n",
      "R2 std: 0.015888249717080163\n",
      "R2 range: 0.8730437728186924 - 0.9048202722528527\n",
      "--------------------------------------------------\n",
      "Best Model: svr_model\n",
      "Best Cross-Val R2 Mean: 0.9988840185893189\n"
     ]
    }
   ],
   "source": [
    "# cross validation\n",
    "\n",
    "name_model = ''\n",
    "cv_scores = -np.inf\n",
    "\n",
    "for cv, name in zip(\n",
    "    [cv_knn_model, cv_svr_model, cv_dt_model, cv_rf_model, cv_ada_model],\n",
    "    ['knn_model', 'svr_model', 'dt_model', 'rf_model', 'ada_model']\n",
    "):\n",
    "    print(name)\n",
    "    print('R2 scores - All CV folds:', cv)\n",
    "    print('R2 mean:', cv.mean())\n",
    "    print('R2 std:', cv.std())\n",
    "    print('R2 range:', cv.mean() - cv.std(), '-', cv.mean() + cv.std())\n",
    "    print('-'*50)\n",
    "\n",
    "    if cv.mean() > cv_scores:\n",
    "        cv_scores = cv.mean()\n",
    "        name_model = name\n",
    "\n",
    "print('Best Model:', name_model)\n",
    "print('Best Cross-Val R2 Mean:', cv_scores)"
   ]
  },
  {
   "cell_type": "markdown",
   "id": "8929e4a4",
   "metadata": {},
   "source": [
    "## Model Training"
   ]
  },
  {
   "cell_type": "code",
   "execution_count": 26,
   "id": "b1ed3f1b",
   "metadata": {},
   "outputs": [
    {
     "data": {
      "text/html": [
       "<style>#sk-container-id-1 {\n",
       "  /* Definition of color scheme common for light and dark mode */\n",
       "  --sklearn-color-text: #000;\n",
       "  --sklearn-color-text-muted: #666;\n",
       "  --sklearn-color-line: gray;\n",
       "  /* Definition of color scheme for unfitted estimators */\n",
       "  --sklearn-color-unfitted-level-0: #fff5e6;\n",
       "  --sklearn-color-unfitted-level-1: #f6e4d2;\n",
       "  --sklearn-color-unfitted-level-2: #ffe0b3;\n",
       "  --sklearn-color-unfitted-level-3: chocolate;\n",
       "  /* Definition of color scheme for fitted estimators */\n",
       "  --sklearn-color-fitted-level-0: #f0f8ff;\n",
       "  --sklearn-color-fitted-level-1: #d4ebff;\n",
       "  --sklearn-color-fitted-level-2: #b3dbfd;\n",
       "  --sklearn-color-fitted-level-3: cornflowerblue;\n",
       "\n",
       "  /* Specific color for light theme */\n",
       "  --sklearn-color-text-on-default-background: var(--sg-text-color, var(--theme-code-foreground, var(--jp-content-font-color1, black)));\n",
       "  --sklearn-color-background: var(--sg-background-color, var(--theme-background, var(--jp-layout-color0, white)));\n",
       "  --sklearn-color-border-box: var(--sg-text-color, var(--theme-code-foreground, var(--jp-content-font-color1, black)));\n",
       "  --sklearn-color-icon: #696969;\n",
       "\n",
       "  @media (prefers-color-scheme: dark) {\n",
       "    /* Redefinition of color scheme for dark theme */\n",
       "    --sklearn-color-text-on-default-background: var(--sg-text-color, var(--theme-code-foreground, var(--jp-content-font-color1, white)));\n",
       "    --sklearn-color-background: var(--sg-background-color, var(--theme-background, var(--jp-layout-color0, #111)));\n",
       "    --sklearn-color-border-box: var(--sg-text-color, var(--theme-code-foreground, var(--jp-content-font-color1, white)));\n",
       "    --sklearn-color-icon: #878787;\n",
       "  }\n",
       "}\n",
       "\n",
       "#sk-container-id-1 {\n",
       "  color: var(--sklearn-color-text);\n",
       "}\n",
       "\n",
       "#sk-container-id-1 pre {\n",
       "  padding: 0;\n",
       "}\n",
       "\n",
       "#sk-container-id-1 input.sk-hidden--visually {\n",
       "  border: 0;\n",
       "  clip: rect(1px 1px 1px 1px);\n",
       "  clip: rect(1px, 1px, 1px, 1px);\n",
       "  height: 1px;\n",
       "  margin: -1px;\n",
       "  overflow: hidden;\n",
       "  padding: 0;\n",
       "  position: absolute;\n",
       "  width: 1px;\n",
       "}\n",
       "\n",
       "#sk-container-id-1 div.sk-dashed-wrapped {\n",
       "  border: 1px dashed var(--sklearn-color-line);\n",
       "  margin: 0 0.4em 0.5em 0.4em;\n",
       "  box-sizing: border-box;\n",
       "  padding-bottom: 0.4em;\n",
       "  background-color: var(--sklearn-color-background);\n",
       "}\n",
       "\n",
       "#sk-container-id-1 div.sk-container {\n",
       "  /* jupyter's `normalize.less` sets `[hidden] { display: none; }`\n",
       "     but bootstrap.min.css set `[hidden] { display: none !important; }`\n",
       "     so we also need the `!important` here to be able to override the\n",
       "     default hidden behavior on the sphinx rendered scikit-learn.org.\n",
       "     See: https://github.com/scikit-learn/scikit-learn/issues/21755 */\n",
       "  display: inline-block !important;\n",
       "  position: relative;\n",
       "}\n",
       "\n",
       "#sk-container-id-1 div.sk-text-repr-fallback {\n",
       "  display: none;\n",
       "}\n",
       "\n",
       "div.sk-parallel-item,\n",
       "div.sk-serial,\n",
       "div.sk-item {\n",
       "  /* draw centered vertical line to link estimators */\n",
       "  background-image: linear-gradient(var(--sklearn-color-text-on-default-background), var(--sklearn-color-text-on-default-background));\n",
       "  background-size: 2px 100%;\n",
       "  background-repeat: no-repeat;\n",
       "  background-position: center center;\n",
       "}\n",
       "\n",
       "/* Parallel-specific style estimator block */\n",
       "\n",
       "#sk-container-id-1 div.sk-parallel-item::after {\n",
       "  content: \"\";\n",
       "  width: 100%;\n",
       "  border-bottom: 2px solid var(--sklearn-color-text-on-default-background);\n",
       "  flex-grow: 1;\n",
       "}\n",
       "\n",
       "#sk-container-id-1 div.sk-parallel {\n",
       "  display: flex;\n",
       "  align-items: stretch;\n",
       "  justify-content: center;\n",
       "  background-color: var(--sklearn-color-background);\n",
       "  position: relative;\n",
       "}\n",
       "\n",
       "#sk-container-id-1 div.sk-parallel-item {\n",
       "  display: flex;\n",
       "  flex-direction: column;\n",
       "}\n",
       "\n",
       "#sk-container-id-1 div.sk-parallel-item:first-child::after {\n",
       "  align-self: flex-end;\n",
       "  width: 50%;\n",
       "}\n",
       "\n",
       "#sk-container-id-1 div.sk-parallel-item:last-child::after {\n",
       "  align-self: flex-start;\n",
       "  width: 50%;\n",
       "}\n",
       "\n",
       "#sk-container-id-1 div.sk-parallel-item:only-child::after {\n",
       "  width: 0;\n",
       "}\n",
       "\n",
       "/* Serial-specific style estimator block */\n",
       "\n",
       "#sk-container-id-1 div.sk-serial {\n",
       "  display: flex;\n",
       "  flex-direction: column;\n",
       "  align-items: center;\n",
       "  background-color: var(--sklearn-color-background);\n",
       "  padding-right: 1em;\n",
       "  padding-left: 1em;\n",
       "}\n",
       "\n",
       "\n",
       "/* Toggleable style: style used for estimator/Pipeline/ColumnTransformer box that is\n",
       "clickable and can be expanded/collapsed.\n",
       "- Pipeline and ColumnTransformer use this feature and define the default style\n",
       "- Estimators will overwrite some part of the style using the `sk-estimator` class\n",
       "*/\n",
       "\n",
       "/* Pipeline and ColumnTransformer style (default) */\n",
       "\n",
       "#sk-container-id-1 div.sk-toggleable {\n",
       "  /* Default theme specific background. It is overwritten whether we have a\n",
       "  specific estimator or a Pipeline/ColumnTransformer */\n",
       "  background-color: var(--sklearn-color-background);\n",
       "}\n",
       "\n",
       "/* Toggleable label */\n",
       "#sk-container-id-1 label.sk-toggleable__label {\n",
       "  cursor: pointer;\n",
       "  display: flex;\n",
       "  width: 100%;\n",
       "  margin-bottom: 0;\n",
       "  padding: 0.5em;\n",
       "  box-sizing: border-box;\n",
       "  text-align: center;\n",
       "  align-items: start;\n",
       "  justify-content: space-between;\n",
       "  gap: 0.5em;\n",
       "}\n",
       "\n",
       "#sk-container-id-1 label.sk-toggleable__label .caption {\n",
       "  font-size: 0.6rem;\n",
       "  font-weight: lighter;\n",
       "  color: var(--sklearn-color-text-muted);\n",
       "}\n",
       "\n",
       "#sk-container-id-1 label.sk-toggleable__label-arrow:before {\n",
       "  /* Arrow on the left of the label */\n",
       "  content: \"▸\";\n",
       "  float: left;\n",
       "  margin-right: 0.25em;\n",
       "  color: var(--sklearn-color-icon);\n",
       "}\n",
       "\n",
       "#sk-container-id-1 label.sk-toggleable__label-arrow:hover:before {\n",
       "  color: var(--sklearn-color-text);\n",
       "}\n",
       "\n",
       "/* Toggleable content - dropdown */\n",
       "\n",
       "#sk-container-id-1 div.sk-toggleable__content {\n",
       "  max-height: 0;\n",
       "  max-width: 0;\n",
       "  overflow: hidden;\n",
       "  text-align: left;\n",
       "  /* unfitted */\n",
       "  background-color: var(--sklearn-color-unfitted-level-0);\n",
       "}\n",
       "\n",
       "#sk-container-id-1 div.sk-toggleable__content.fitted {\n",
       "  /* fitted */\n",
       "  background-color: var(--sklearn-color-fitted-level-0);\n",
       "}\n",
       "\n",
       "#sk-container-id-1 div.sk-toggleable__content pre {\n",
       "  margin: 0.2em;\n",
       "  border-radius: 0.25em;\n",
       "  color: var(--sklearn-color-text);\n",
       "  /* unfitted */\n",
       "  background-color: var(--sklearn-color-unfitted-level-0);\n",
       "}\n",
       "\n",
       "#sk-container-id-1 div.sk-toggleable__content.fitted pre {\n",
       "  /* unfitted */\n",
       "  background-color: var(--sklearn-color-fitted-level-0);\n",
       "}\n",
       "\n",
       "#sk-container-id-1 input.sk-toggleable__control:checked~div.sk-toggleable__content {\n",
       "  /* Expand drop-down */\n",
       "  max-height: 200px;\n",
       "  max-width: 100%;\n",
       "  overflow: auto;\n",
       "}\n",
       "\n",
       "#sk-container-id-1 input.sk-toggleable__control:checked~label.sk-toggleable__label-arrow:before {\n",
       "  content: \"▾\";\n",
       "}\n",
       "\n",
       "/* Pipeline/ColumnTransformer-specific style */\n",
       "\n",
       "#sk-container-id-1 div.sk-label input.sk-toggleable__control:checked~label.sk-toggleable__label {\n",
       "  color: var(--sklearn-color-text);\n",
       "  background-color: var(--sklearn-color-unfitted-level-2);\n",
       "}\n",
       "\n",
       "#sk-container-id-1 div.sk-label.fitted input.sk-toggleable__control:checked~label.sk-toggleable__label {\n",
       "  background-color: var(--sklearn-color-fitted-level-2);\n",
       "}\n",
       "\n",
       "/* Estimator-specific style */\n",
       "\n",
       "/* Colorize estimator box */\n",
       "#sk-container-id-1 div.sk-estimator input.sk-toggleable__control:checked~label.sk-toggleable__label {\n",
       "  /* unfitted */\n",
       "  background-color: var(--sklearn-color-unfitted-level-2);\n",
       "}\n",
       "\n",
       "#sk-container-id-1 div.sk-estimator.fitted input.sk-toggleable__control:checked~label.sk-toggleable__label {\n",
       "  /* fitted */\n",
       "  background-color: var(--sklearn-color-fitted-level-2);\n",
       "}\n",
       "\n",
       "#sk-container-id-1 div.sk-label label.sk-toggleable__label,\n",
       "#sk-container-id-1 div.sk-label label {\n",
       "  /* The background is the default theme color */\n",
       "  color: var(--sklearn-color-text-on-default-background);\n",
       "}\n",
       "\n",
       "/* On hover, darken the color of the background */\n",
       "#sk-container-id-1 div.sk-label:hover label.sk-toggleable__label {\n",
       "  color: var(--sklearn-color-text);\n",
       "  background-color: var(--sklearn-color-unfitted-level-2);\n",
       "}\n",
       "\n",
       "/* Label box, darken color on hover, fitted */\n",
       "#sk-container-id-1 div.sk-label.fitted:hover label.sk-toggleable__label.fitted {\n",
       "  color: var(--sklearn-color-text);\n",
       "  background-color: var(--sklearn-color-fitted-level-2);\n",
       "}\n",
       "\n",
       "/* Estimator label */\n",
       "\n",
       "#sk-container-id-1 div.sk-label label {\n",
       "  font-family: monospace;\n",
       "  font-weight: bold;\n",
       "  display: inline-block;\n",
       "  line-height: 1.2em;\n",
       "}\n",
       "\n",
       "#sk-container-id-1 div.sk-label-container {\n",
       "  text-align: center;\n",
       "}\n",
       "\n",
       "/* Estimator-specific */\n",
       "#sk-container-id-1 div.sk-estimator {\n",
       "  font-family: monospace;\n",
       "  border: 1px dotted var(--sklearn-color-border-box);\n",
       "  border-radius: 0.25em;\n",
       "  box-sizing: border-box;\n",
       "  margin-bottom: 0.5em;\n",
       "  /* unfitted */\n",
       "  background-color: var(--sklearn-color-unfitted-level-0);\n",
       "}\n",
       "\n",
       "#sk-container-id-1 div.sk-estimator.fitted {\n",
       "  /* fitted */\n",
       "  background-color: var(--sklearn-color-fitted-level-0);\n",
       "}\n",
       "\n",
       "/* on hover */\n",
       "#sk-container-id-1 div.sk-estimator:hover {\n",
       "  /* unfitted */\n",
       "  background-color: var(--sklearn-color-unfitted-level-2);\n",
       "}\n",
       "\n",
       "#sk-container-id-1 div.sk-estimator.fitted:hover {\n",
       "  /* fitted */\n",
       "  background-color: var(--sklearn-color-fitted-level-2);\n",
       "}\n",
       "\n",
       "/* Specification for estimator info (e.g. \"i\" and \"?\") */\n",
       "\n",
       "/* Common style for \"i\" and \"?\" */\n",
       "\n",
       ".sk-estimator-doc-link,\n",
       "a:link.sk-estimator-doc-link,\n",
       "a:visited.sk-estimator-doc-link {\n",
       "  float: right;\n",
       "  font-size: smaller;\n",
       "  line-height: 1em;\n",
       "  font-family: monospace;\n",
       "  background-color: var(--sklearn-color-background);\n",
       "  border-radius: 1em;\n",
       "  height: 1em;\n",
       "  width: 1em;\n",
       "  text-decoration: none !important;\n",
       "  margin-left: 0.5em;\n",
       "  text-align: center;\n",
       "  /* unfitted */\n",
       "  border: var(--sklearn-color-unfitted-level-1) 1pt solid;\n",
       "  color: var(--sklearn-color-unfitted-level-1);\n",
       "}\n",
       "\n",
       ".sk-estimator-doc-link.fitted,\n",
       "a:link.sk-estimator-doc-link.fitted,\n",
       "a:visited.sk-estimator-doc-link.fitted {\n",
       "  /* fitted */\n",
       "  border: var(--sklearn-color-fitted-level-1) 1pt solid;\n",
       "  color: var(--sklearn-color-fitted-level-1);\n",
       "}\n",
       "\n",
       "/* On hover */\n",
       "div.sk-estimator:hover .sk-estimator-doc-link:hover,\n",
       ".sk-estimator-doc-link:hover,\n",
       "div.sk-label-container:hover .sk-estimator-doc-link:hover,\n",
       ".sk-estimator-doc-link:hover {\n",
       "  /* unfitted */\n",
       "  background-color: var(--sklearn-color-unfitted-level-3);\n",
       "  color: var(--sklearn-color-background);\n",
       "  text-decoration: none;\n",
       "}\n",
       "\n",
       "div.sk-estimator.fitted:hover .sk-estimator-doc-link.fitted:hover,\n",
       ".sk-estimator-doc-link.fitted:hover,\n",
       "div.sk-label-container:hover .sk-estimator-doc-link.fitted:hover,\n",
       ".sk-estimator-doc-link.fitted:hover {\n",
       "  /* fitted */\n",
       "  background-color: var(--sklearn-color-fitted-level-3);\n",
       "  color: var(--sklearn-color-background);\n",
       "  text-decoration: none;\n",
       "}\n",
       "\n",
       "/* Span, style for the box shown on hovering the info icon */\n",
       ".sk-estimator-doc-link span {\n",
       "  display: none;\n",
       "  z-index: 9999;\n",
       "  position: relative;\n",
       "  font-weight: normal;\n",
       "  right: .2ex;\n",
       "  padding: .5ex;\n",
       "  margin: .5ex;\n",
       "  width: min-content;\n",
       "  min-width: 20ex;\n",
       "  max-width: 50ex;\n",
       "  color: var(--sklearn-color-text);\n",
       "  box-shadow: 2pt 2pt 4pt #999;\n",
       "  /* unfitted */\n",
       "  background: var(--sklearn-color-unfitted-level-0);\n",
       "  border: .5pt solid var(--sklearn-color-unfitted-level-3);\n",
       "}\n",
       "\n",
       ".sk-estimator-doc-link.fitted span {\n",
       "  /* fitted */\n",
       "  background: var(--sklearn-color-fitted-level-0);\n",
       "  border: var(--sklearn-color-fitted-level-3);\n",
       "}\n",
       "\n",
       ".sk-estimator-doc-link:hover span {\n",
       "  display: block;\n",
       "}\n",
       "\n",
       "/* \"?\"-specific style due to the `<a>` HTML tag */\n",
       "\n",
       "#sk-container-id-1 a.estimator_doc_link {\n",
       "  float: right;\n",
       "  font-size: 1rem;\n",
       "  line-height: 1em;\n",
       "  font-family: monospace;\n",
       "  background-color: var(--sklearn-color-background);\n",
       "  border-radius: 1rem;\n",
       "  height: 1rem;\n",
       "  width: 1rem;\n",
       "  text-decoration: none;\n",
       "  /* unfitted */\n",
       "  color: var(--sklearn-color-unfitted-level-1);\n",
       "  border: var(--sklearn-color-unfitted-level-1) 1pt solid;\n",
       "}\n",
       "\n",
       "#sk-container-id-1 a.estimator_doc_link.fitted {\n",
       "  /* fitted */\n",
       "  border: var(--sklearn-color-fitted-level-1) 1pt solid;\n",
       "  color: var(--sklearn-color-fitted-level-1);\n",
       "}\n",
       "\n",
       "/* On hover */\n",
       "#sk-container-id-1 a.estimator_doc_link:hover {\n",
       "  /* unfitted */\n",
       "  background-color: var(--sklearn-color-unfitted-level-3);\n",
       "  color: var(--sklearn-color-background);\n",
       "  text-decoration: none;\n",
       "}\n",
       "\n",
       "#sk-container-id-1 a.estimator_doc_link.fitted:hover {\n",
       "  /* fitted */\n",
       "  background-color: var(--sklearn-color-fitted-level-3);\n",
       "}\n",
       "</style><div id=\"sk-container-id-1\" class=\"sk-top-container\"><div class=\"sk-text-repr-fallback\"><pre>Pipeline(steps=[(&#x27;columntransformer&#x27;,\n",
       "                 ColumnTransformer(transformers=[(&#x27;num_pca&#x27;,\n",
       "                                                  Pipeline(steps=[(&#x27;scaler&#x27;,\n",
       "                                                                   StandardScaler()),\n",
       "                                                                  (&#x27;pca&#x27;,\n",
       "                                                                   PCA(n_components=0.95))]),\n",
       "                                                  [&#x27;genetic_risk&#x27;,\n",
       "                                                   &#x27;air_pollution&#x27;,\n",
       "                                                   &#x27;alcohol_use&#x27;, &#x27;smoking&#x27;,\n",
       "                                                   &#x27;obesity_level&#x27;,\n",
       "                                                   &#x27;treatment_cost_usd&#x27;])])),\n",
       "                (&#x27;svr&#x27;, SVR())])</pre><b>In a Jupyter environment, please rerun this cell to show the HTML representation or trust the notebook. <br />On GitHub, the HTML representation is unable to render, please try loading this page with nbviewer.org.</b></div><div class=\"sk-container\" hidden><div class=\"sk-item sk-dashed-wrapped\"><div class=\"sk-label-container\"><div class=\"sk-label fitted sk-toggleable\"><input class=\"sk-toggleable__control sk-hidden--visually\" id=\"sk-estimator-id-1\" type=\"checkbox\" ><label for=\"sk-estimator-id-1\" class=\"sk-toggleable__label fitted sk-toggleable__label-arrow\"><div><div>Pipeline</div></div><div><a class=\"sk-estimator-doc-link fitted\" rel=\"noreferrer\" target=\"_blank\" href=\"https://scikit-learn.org/1.6/modules/generated/sklearn.pipeline.Pipeline.html\">?<span>Documentation for Pipeline</span></a><span class=\"sk-estimator-doc-link fitted\">i<span>Fitted</span></span></div></label><div class=\"sk-toggleable__content fitted\"><pre>Pipeline(steps=[(&#x27;columntransformer&#x27;,\n",
       "                 ColumnTransformer(transformers=[(&#x27;num_pca&#x27;,\n",
       "                                                  Pipeline(steps=[(&#x27;scaler&#x27;,\n",
       "                                                                   StandardScaler()),\n",
       "                                                                  (&#x27;pca&#x27;,\n",
       "                                                                   PCA(n_components=0.95))]),\n",
       "                                                  [&#x27;genetic_risk&#x27;,\n",
       "                                                   &#x27;air_pollution&#x27;,\n",
       "                                                   &#x27;alcohol_use&#x27;, &#x27;smoking&#x27;,\n",
       "                                                   &#x27;obesity_level&#x27;,\n",
       "                                                   &#x27;treatment_cost_usd&#x27;])])),\n",
       "                (&#x27;svr&#x27;, SVR())])</pre></div> </div></div><div class=\"sk-serial\"><div class=\"sk-item sk-dashed-wrapped\"><div class=\"sk-label-container\"><div class=\"sk-label fitted sk-toggleable\"><input class=\"sk-toggleable__control sk-hidden--visually\" id=\"sk-estimator-id-2\" type=\"checkbox\" ><label for=\"sk-estimator-id-2\" class=\"sk-toggleable__label fitted sk-toggleable__label-arrow\"><div><div>columntransformer: ColumnTransformer</div></div><div><a class=\"sk-estimator-doc-link fitted\" rel=\"noreferrer\" target=\"_blank\" href=\"https://scikit-learn.org/1.6/modules/generated/sklearn.compose.ColumnTransformer.html\">?<span>Documentation for columntransformer: ColumnTransformer</span></a></div></label><div class=\"sk-toggleable__content fitted\"><pre>ColumnTransformer(transformers=[(&#x27;num_pca&#x27;,\n",
       "                                 Pipeline(steps=[(&#x27;scaler&#x27;, StandardScaler()),\n",
       "                                                 (&#x27;pca&#x27;,\n",
       "                                                  PCA(n_components=0.95))]),\n",
       "                                 [&#x27;genetic_risk&#x27;, &#x27;air_pollution&#x27;,\n",
       "                                  &#x27;alcohol_use&#x27;, &#x27;smoking&#x27;, &#x27;obesity_level&#x27;,\n",
       "                                  &#x27;treatment_cost_usd&#x27;])])</pre></div> </div></div><div class=\"sk-parallel\"><div class=\"sk-parallel-item\"><div class=\"sk-item\"><div class=\"sk-label-container\"><div class=\"sk-label fitted sk-toggleable\"><input class=\"sk-toggleable__control sk-hidden--visually\" id=\"sk-estimator-id-3\" type=\"checkbox\" ><label for=\"sk-estimator-id-3\" class=\"sk-toggleable__label fitted sk-toggleable__label-arrow\"><div><div>num_pca</div></div></label><div class=\"sk-toggleable__content fitted\"><pre>[&#x27;genetic_risk&#x27;, &#x27;air_pollution&#x27;, &#x27;alcohol_use&#x27;, &#x27;smoking&#x27;, &#x27;obesity_level&#x27;, &#x27;treatment_cost_usd&#x27;]</pre></div> </div></div><div class=\"sk-serial\"><div class=\"sk-item\"><div class=\"sk-serial\"><div class=\"sk-item\"><div class=\"sk-estimator fitted sk-toggleable\"><input class=\"sk-toggleable__control sk-hidden--visually\" id=\"sk-estimator-id-4\" type=\"checkbox\" ><label for=\"sk-estimator-id-4\" class=\"sk-toggleable__label fitted sk-toggleable__label-arrow\"><div><div>StandardScaler</div></div><div><a class=\"sk-estimator-doc-link fitted\" rel=\"noreferrer\" target=\"_blank\" href=\"https://scikit-learn.org/1.6/modules/generated/sklearn.preprocessing.StandardScaler.html\">?<span>Documentation for StandardScaler</span></a></div></label><div class=\"sk-toggleable__content fitted\"><pre>StandardScaler()</pre></div> </div></div><div class=\"sk-item\"><div class=\"sk-estimator fitted sk-toggleable\"><input class=\"sk-toggleable__control sk-hidden--visually\" id=\"sk-estimator-id-5\" type=\"checkbox\" ><label for=\"sk-estimator-id-5\" class=\"sk-toggleable__label fitted sk-toggleable__label-arrow\"><div><div>PCA</div></div><div><a class=\"sk-estimator-doc-link fitted\" rel=\"noreferrer\" target=\"_blank\" href=\"https://scikit-learn.org/1.6/modules/generated/sklearn.decomposition.PCA.html\">?<span>Documentation for PCA</span></a></div></label><div class=\"sk-toggleable__content fitted\"><pre>PCA(n_components=0.95)</pre></div> </div></div></div></div></div></div></div></div></div><div class=\"sk-item\"><div class=\"sk-estimator fitted sk-toggleable\"><input class=\"sk-toggleable__control sk-hidden--visually\" id=\"sk-estimator-id-6\" type=\"checkbox\" ><label for=\"sk-estimator-id-6\" class=\"sk-toggleable__label fitted sk-toggleable__label-arrow\"><div><div>SVR</div></div><div><a class=\"sk-estimator-doc-link fitted\" rel=\"noreferrer\" target=\"_blank\" href=\"https://scikit-learn.org/1.6/modules/generated/sklearn.svm.SVR.html\">?<span>Documentation for SVR</span></a></div></label><div class=\"sk-toggleable__content fitted\"><pre>SVR()</pre></div> </div></div></div></div></div></div>"
      ],
      "text/plain": [
       "Pipeline(steps=[('columntransformer',\n",
       "                 ColumnTransformer(transformers=[('num_pca',\n",
       "                                                  Pipeline(steps=[('scaler',\n",
       "                                                                   StandardScaler()),\n",
       "                                                                  ('pca',\n",
       "                                                                   PCA(n_components=0.95))]),\n",
       "                                                  ['genetic_risk',\n",
       "                                                   'air_pollution',\n",
       "                                                   'alcohol_use', 'smoking',\n",
       "                                                   'obesity_level',\n",
       "                                                   'treatment_cost_usd'])])),\n",
       "                ('svr', SVR())])"
      ]
     },
     "execution_count": 26,
     "metadata": {},
     "output_type": "execute_result"
    }
   ],
   "source": [
    "# train model\n",
    "\n",
    "pipe_svr.fit(x_train_final, y_train)"
   ]
  },
  {
   "cell_type": "markdown",
   "id": "e6945d19",
   "metadata": {},
   "source": [
    "## Model Evaluation"
   ]
  },
  {
   "cell_type": "markdown",
   "id": "b99b41b9",
   "metadata": {},
   "source": [
    "### Predict Train and Test Set"
   ]
  },
  {
   "cell_type": "code",
   "execution_count": 27,
   "id": "e77135c1",
   "metadata": {},
   "outputs": [],
   "source": [
    "# prediksi x_train dan y_train\n",
    "\n",
    "y_pred_train = pipe_svr.predict(x_train_final)\n",
    "y_pred_test = pipe_svr.predict(x_test_final)"
   ]
  },
  {
   "cell_type": "markdown",
   "id": "c5413757",
   "metadata": {},
   "source": [
    "### Model Performance"
   ]
  },
  {
   "cell_type": "code",
   "execution_count": 28,
   "id": "0654dc8d",
   "metadata": {},
   "outputs": [
    {
     "name": "stdout",
     "output_type": "stream",
     "text": [
      "MAE - Train Set  :  0.02977986687062088\n",
      "MAE - Test Set   :  0.02978082990950092\n",
      "RMSE - Train Set :  0.0379890924797089\n",
      "RMSE - Test Set  :  0.03834526313163038\n",
      "R2 - Train Set   :  0.9989978245009394\n",
      "R2 - Test Set    :  0.9989759440723974\n"
     ]
    }
   ],
   "source": [
    "# MAE, RMSE dan R2 score hasil prediksi\n",
    "\n",
    "print('MAE - Train Set  : ', mean_absolute_error(y_train, y_pred_train))\n",
    "print('MAE - Test Set   : ', mean_absolute_error(y_test, y_pred_test))\n",
    "\n",
    "print('RMSE - Train Set : ', np.sqrt(mean_squared_error(y_train, y_pred_train)))\n",
    "print('RMSE - Test Set  : ', np.sqrt(mean_squared_error(y_test, y_pred_test)))\n",
    "\n",
    "print('R2 - Train Set   : ', r2_score(y_train, y_pred_train))\n",
    "print('R2 - Test Set    : ', r2_score(y_test, y_pred_test))"
   ]
  },
  {
   "cell_type": "markdown",
   "id": "b5f16660",
   "metadata": {},
   "source": [
    "### Save Model Performance in Dictionary"
   ]
  },
  {
   "cell_type": "code",
   "execution_count": 29,
   "id": "7429390a",
   "metadata": {},
   "outputs": [
    {
     "data": {
      "text/html": [
       "<div>\n",
       "<style scoped>\n",
       "    .dataframe tbody tr th:only-of-type {\n",
       "        vertical-align: middle;\n",
       "    }\n",
       "\n",
       "    .dataframe tbody tr th {\n",
       "        vertical-align: top;\n",
       "    }\n",
       "\n",
       "    .dataframe thead th {\n",
       "        text-align: right;\n",
       "    }\n",
       "</style>\n",
       "<table border=\"1\" class=\"dataframe\">\n",
       "  <thead>\n",
       "    <tr style=\"text-align: right;\">\n",
       "      <th></th>\n",
       "      <th>SupportVectorReg without Tuning</th>\n",
       "    </tr>\n",
       "  </thead>\n",
       "  <tbody>\n",
       "    <tr>\n",
       "      <th>MAE Train Set</th>\n",
       "      <td>0.029780</td>\n",
       "    </tr>\n",
       "    <tr>\n",
       "      <th>MAE Test Set</th>\n",
       "      <td>0.029781</td>\n",
       "    </tr>\n",
       "    <tr>\n",
       "      <th>RMSE Train Set</th>\n",
       "      <td>0.037989</td>\n",
       "    </tr>\n",
       "    <tr>\n",
       "      <th>RMSE Test Set</th>\n",
       "      <td>0.038345</td>\n",
       "    </tr>\n",
       "    <tr>\n",
       "      <th>R2 Train Set</th>\n",
       "      <td>0.998998</td>\n",
       "    </tr>\n",
       "    <tr>\n",
       "      <th>R2 Test Set</th>\n",
       "      <td>0.998976</td>\n",
       "    </tr>\n",
       "  </tbody>\n",
       "</table>\n",
       "</div>"
      ],
      "text/plain": [
       "                SupportVectorReg without Tuning\n",
       "MAE Train Set                          0.029780\n",
       "MAE Test Set                           0.029781\n",
       "RMSE Train Set                         0.037989\n",
       "RMSE Test Set                          0.038345\n",
       "R2 Train Set                           0.998998\n",
       "R2 Test Set                            0.998976"
      ]
     },
     "execution_count": 29,
     "metadata": {},
     "output_type": "execute_result"
    }
   ],
   "source": [
    "# membuat fungsi dan dictionary untuk menyimpan performa model\n",
    "\n",
    "def regression_report(all_reports, y_train, y_pred_train, y_test, y_pred_test, name):\n",
    "    score_reports = {\n",
    "        'MAE Train Set': mean_absolute_error(y_train, y_pred_train),\n",
    "        'MAE Test Set': mean_absolute_error(y_test, y_pred_test),\n",
    "        'RMSE Train Set': np.sqrt(mean_squared_error(y_train, y_pred_train)),\n",
    "        'RMSE Test Set': np.sqrt(mean_squared_error(y_test, y_pred_test)),\n",
    "        'R2 Train Set': r2_score(y_train, y_pred_train),\n",
    "        'R2 Test Set': r2_score(y_test, y_pred_test),\n",
    "    }\n",
    "\n",
    "    all_reports[name] = score_reports\n",
    "    return all_reports\n",
    "\n",
    "all_reports = {}\n",
    "\n",
    "y_pred_train = pipe_svr.predict(x_train)\n",
    "y_pred_test = pipe_svr.predict(x_test)\n",
    "\n",
    "all_reports = regression_report(all_reports, y_train, y_pred_train, y_test, y_pred_test, 'SupportVectorReg without Tuning')\n",
    "\n",
    "pd.DataFrame(all_reports)"
   ]
  },
  {
   "cell_type": "markdown",
   "id": "f2ac28ec",
   "metadata": {},
   "source": [
    "Sebelum Tuning:\n",
    "\n",
    "- MAE Train vs Test: 0.029780 vs 0.029781\n",
    "→ Selisih sangat kecil, menandakan performa stabil dan tidak ada overfitting.\n",
    "- RMSE Train vs Test: 0.037989 vs 0.038345\n",
    "→ Konsisten, menunjukkan prediksi error rendah di kedua set.\n",
    "- R2 Train vs Test: 0.998998 vs 0.998976\n",
    "→ Nilai R2 sangat tinggi dan hampir identik, menunjukkan bahwa model mampu menjelaskan hampir seluruh variasi data.\n",
    "\n",
    "__Kesimpulan__: Model sudah tergolong good fit sebelum tuning. Tidak ada indikasi overfitting maupun underfitting, namun masih ada ruang perbaikan dari sisi akurasi prediksi."
   ]
  },
  {
   "cell_type": "markdown",
   "id": "dd2a49e1",
   "metadata": {},
   "source": [
    "## Hyperparameter Tuning"
   ]
  },
  {
   "cell_type": "markdown",
   "id": "e80f7ccc",
   "metadata": {},
   "source": [
    "### Set Parameters for Tuning and Tuning Using Random Search"
   ]
  },
  {
   "cell_type": "code",
   "execution_count": 30,
   "id": "9c3c3b8c",
   "metadata": {},
   "outputs": [
    {
     "name": "stdout",
     "output_type": "stream",
     "text": [
      "Fitting 5 folds for each of 20 candidates, totalling 100 fits\n",
      "Best Parameters for SVR: {'svr__C': np.float64(77.23206432667459), 'svr__epsilon': np.float64(0.030751949359401502), 'svr__kernel': 'rbf'}\n"
     ]
    }
   ],
   "source": [
    "# set parameters\n",
    "\n",
    "param_dist_svr = {\n",
    "    'svr__C': uniform(0.1, 100),             \n",
    "    'svr__epsilon': uniform(0.01, 1.0),      \n",
    "    'svr__kernel': ['rbf', 'linear']       \n",
    "}\n",
    "\n",
    "# tuning menggunakan random search\n",
    "\n",
    "random_search_svr = RandomizedSearchCV(\n",
    "    estimator=pipe_svr,\n",
    "    param_distributions=param_dist_svr,\n",
    "    n_iter=20,\n",
    "    scoring='r2',\n",
    "    cv=5,\n",
    "    random_state=10,\n",
    "    n_jobs=-1,\n",
    "    verbose=1\n",
    ")\n",
    "\n",
    "random_search_svr.fit(x_train_final, y_train)\n",
    "\n",
    "print(\"Best Parameters for SVR:\", random_search_svr.best_params_)\n"
   ]
  },
  {
   "cell_type": "markdown",
   "id": "650c8f0f",
   "metadata": {},
   "source": [
    "### Train Model Using The Best Parameters"
   ]
  },
  {
   "cell_type": "code",
   "execution_count": 31,
   "id": "4e757fbc",
   "metadata": {},
   "outputs": [],
   "source": [
    "# define model dengan parameter terbaik\n",
    "\n",
    "best_svr_model = random_search_svr.best_estimator_\n",
    "\n",
    "# train model \n",
    "\n",
    "y_pred_train_tuned = best_svr_model.predict(x_train_final)\n",
    "y_pred_test_tuned = best_svr_model.predict(x_test_final)"
   ]
  },
  {
   "cell_type": "markdown",
   "id": "ee103f27",
   "metadata": {},
   "source": [
    "### Save Model Performance in Dictionary"
   ]
  },
  {
   "cell_type": "code",
   "execution_count": 32,
   "id": "bf476476",
   "metadata": {},
   "outputs": [],
   "source": [
    "# menyimpan hasil prediksi ke dictionary\n",
    "\n",
    "def regression_report(all_reports, y_train, y_pred_train, y_test, y_pred_test, name):\n",
    "    score_reports = {\n",
    "        'MAE Train Set': mean_absolute_error(y_train, y_pred_train),\n",
    "        'MAE Test Set': mean_absolute_error(y_test, y_pred_test),\n",
    "        'RMSE Train Set': np.sqrt(mean_squared_error(y_train, y_pred_train)),\n",
    "        'RMSE Test Set': np.sqrt(mean_squared_error(y_test, y_pred_test)),\n",
    "        'R2 Train Set': r2_score(y_train, y_pred_train),\n",
    "        'R2 Test Set': r2_score(y_test, y_pred_test)\n",
    "    }\n",
    "\n",
    "    all_reports[name] = score_reports\n",
    "    return all_reports"
   ]
  },
  {
   "cell_type": "markdown",
   "id": "f9440928",
   "metadata": {},
   "source": [
    "## Compare Model Performance Before and After Hyperparameter Tuning"
   ]
  },
  {
   "cell_type": "code",
   "execution_count": 33,
   "id": "6e341ca1",
   "metadata": {},
   "outputs": [
    {
     "data": {
      "text/html": [
       "<div>\n",
       "<style scoped>\n",
       "    .dataframe tbody tr th:only-of-type {\n",
       "        vertical-align: middle;\n",
       "    }\n",
       "\n",
       "    .dataframe tbody tr th {\n",
       "        vertical-align: top;\n",
       "    }\n",
       "\n",
       "    .dataframe thead th {\n",
       "        text-align: right;\n",
       "    }\n",
       "</style>\n",
       "<table border=\"1\" class=\"dataframe\">\n",
       "  <thead>\n",
       "    <tr style=\"text-align: right;\">\n",
       "      <th></th>\n",
       "      <th>SupportVectorReg without Tuning</th>\n",
       "      <th>SupportVectorReg Tuned (RandomSearch)</th>\n",
       "    </tr>\n",
       "  </thead>\n",
       "  <tbody>\n",
       "    <tr>\n",
       "      <th>MAE Train Set</th>\n",
       "      <td>0.029780</td>\n",
       "      <td>0.010176</td>\n",
       "    </tr>\n",
       "    <tr>\n",
       "      <th>MAE Test Set</th>\n",
       "      <td>0.029781</td>\n",
       "      <td>0.010131</td>\n",
       "    </tr>\n",
       "    <tr>\n",
       "      <th>RMSE Train Set</th>\n",
       "      <td>0.037989</td>\n",
       "      <td>0.012643</td>\n",
       "    </tr>\n",
       "    <tr>\n",
       "      <th>RMSE Test Set</th>\n",
       "      <td>0.038345</td>\n",
       "      <td>0.012981</td>\n",
       "    </tr>\n",
       "    <tr>\n",
       "      <th>R2 Train Set</th>\n",
       "      <td>0.998998</td>\n",
       "      <td>0.999889</td>\n",
       "    </tr>\n",
       "    <tr>\n",
       "      <th>R2 Test Set</th>\n",
       "      <td>0.998976</td>\n",
       "      <td>0.999883</td>\n",
       "    </tr>\n",
       "  </tbody>\n",
       "</table>\n",
       "</div>"
      ],
      "text/plain": [
       "                SupportVectorReg without Tuning  \\\n",
       "MAE Train Set                          0.029780   \n",
       "MAE Test Set                           0.029781   \n",
       "RMSE Train Set                         0.037989   \n",
       "RMSE Test Set                          0.038345   \n",
       "R2 Train Set                           0.998998   \n",
       "R2 Test Set                            0.998976   \n",
       "\n",
       "                SupportVectorReg Tuned (RandomSearch)  \n",
       "MAE Train Set                                0.010176  \n",
       "MAE Test Set                                 0.010131  \n",
       "RMSE Train Set                               0.012643  \n",
       "RMSE Test Set                                0.012981  \n",
       "R2 Train Set                                 0.999889  \n",
       "R2 Test Set                                  0.999883  "
      ]
     },
     "execution_count": 33,
     "metadata": {},
     "output_type": "execute_result"
    }
   ],
   "source": [
    "# menggabungkan performa model sebelum dann setelah hyperparameter tuning\n",
    "\n",
    "all_reports = regression_report(all_reports, y_train, y_pred_train_tuned, y_test, y_pred_test_tuned, 'SupportVectorReg Tuned (RandomSearch)')\n",
    "\n",
    "# menampilkan hasil\n",
    "\n",
    "pd.DataFrame(all_reports)"
   ]
  },
  {
   "cell_type": "markdown",
   "id": "392a3d8c",
   "metadata": {},
   "source": [
    "Setelah Tuning\n",
    "\n",
    "- MAE Train vs Test: 0.010176 vs 0.010131\n",
    "→ Error absolut menurun drastis, menunjukkan prediksi lebih presisi.\n",
    "- RMSE Train vs Test: 0.012643 vs 0.012981\n",
    "→ Error kuadrat rata-rata juga jauh lebih rendah, memperkuat bahwa model lebih stabil terhadap deviasi besar.\n",
    "- R2 Train vs Test: 0.999889 vs 0.999883\n",
    "→ R2 naik mendekati sempurna. Performa tetap sangat konsisten di train dan test set.\n",
    "\n",
    "__Kesimpulan__: Setelah tuning, model menjadi lebih presisi dan stabil, dengan penurunan signifikan pada MAE dan RMSE, dan peningkatan kecil namun berarti pada R2. Tidak terjadi overfitting meskipun model menjadi lebih kompleks — tetap good fit."
   ]
  },
  {
   "cell_type": "markdown",
   "id": "a6507da2",
   "metadata": {},
   "source": [
    "# 7. Model Saving"
   ]
  },
  {
   "cell_type": "code",
   "execution_count": 34,
   "id": "645822d3",
   "metadata": {},
   "outputs": [],
   "source": [
    "# save model\n",
    "\n",
    "with open('best_pipe.pkl', 'wb') as model_file:\n",
    "  pickle.dump(best_svr_model, model_file)"
   ]
  },
  {
   "cell_type": "markdown",
   "id": "bd192b97",
   "metadata": {},
   "source": [
    "# 8. Model Inference (in inference file)"
   ]
  },
  {
   "cell_type": "markdown",
   "id": "7439cc5b",
   "metadata": {},
   "source": [
    "# 9. Conclusion"
   ]
  },
  {
   "cell_type": "markdown",
   "id": "88809ca8",
   "metadata": {},
   "source": [
    "Model Support Vector Regression (SVR) terbukti menjadi model terbaik dalam memprediksi tingkat keparahan pasien kanker dengan performa yang sangat tinggi. Setelah dilakukan hyperparameter tuning menggunakan Random Search, performa model meningkat secara signifikan. MAE dan RMSE pada data uji mengalami penurunan yang cukup drastis, menunjukkan peningkatan akurasi dan kestabilan model dalam melakukan prediksi. Selain itu, nilai R2 yang awalnya sudah tinggi menjadi semakin mendekati satu, yang berarti model mampu menjelaskan hampir seluruh variabilitas pada data target. \n",
    "\n",
    "Performa luar biasa ini didukung oleh dataset yang tampak sangat bersih dan seimbang, meskipun hal ini juga mengindikasikan kemungkinan bahwa data telah melalui proses preprocessing sebelumnya atau bersifat sintetik. Meski demikian, hasil ini menunjukkan bahwa dengan data yang tepat dan proses pemodelan yang optimal, prediksi tingkat keparahan kanker dapat dilakukan secara efektif dan akurat."
   ]
  }
 ],
 "metadata": {
  "kernelspec": {
   "display_name": "base",
   "language": "python",
   "name": "python3"
  },
  "language_info": {
   "codemirror_mode": {
    "name": "ipython",
    "version": 3
   },
   "file_extension": ".py",
   "mimetype": "text/x-python",
   "name": "python",
   "nbconvert_exporter": "python",
   "pygments_lexer": "ipython3",
   "version": "3.12.9"
  }
 },
 "nbformat": 4,
 "nbformat_minor": 5
}
